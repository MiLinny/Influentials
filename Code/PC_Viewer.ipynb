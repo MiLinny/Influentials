{
 "cells": [
  {
   "cell_type": "code",
   "execution_count": 2,
   "metadata": {},
   "outputs": [
    {
     "name": "stdout",
     "output_type": "stream",
     "text": [
      "Hello this has loaded\n"
     ]
    }
   ],
   "source": [
    "from SimulationHelper import *\n",
    "from tqdm import tqdm\n",
    "import numpy as np\n",
    "import os\n",
    "import matplotlib.pyplot as plt \n",
    "%matplotlib inline "
   ]
  },
  {
   "cell_type": "code",
   "execution_count": 26,
   "metadata": {},
   "outputs": [],
   "source": [
    "######################################################################\n",
    "############################# Parameters #############################\n",
    "######################################################################\n",
    "N = 100\n",
    "phi = 0.20\n",
    "max_n_avg = 36\n",
    "increment = 0.25\n",
    "num_simulations = 50\n",
    "\n",
    "n_avg = np.arange(1, max_n_avg, increment)\n",
    "p = [avg/(N-1) for avg in n_avg]\n",
    "n = len(p)"
   ]
  },
  {
   "cell_type": "markdown",
   "metadata": {},
   "source": [
    "### Loading Data"
   ]
  },
  {
   "cell_type": "code",
   "execution_count": 27,
   "metadata": {},
   "outputs": [],
   "source": [
    "file_dir = \"./Results\"\n",
    "file_name = \"RG_N_PC{}phi{}avg{}sim{}inc{}.npy\".format(N,int(phi*100),max_n_avg,num_simulations, increment)\n",
    "file_path = os.path.join(file_dir, file_name)\n",
    "PC = np.load(file_path)"
   ]
  },
  {
   "cell_type": "code",
   "execution_count": 28,
   "metadata": {},
   "outputs": [],
   "source": [
    "file_name = \"RG_N{}phi{}avg{}sim{}inc{}.npy\".format(N,int(phi*100),max_n_avg,num_simulations, increment)\n",
    "ML = np.load(file_path)"
   ]
  },
  {
   "cell_type": "markdown",
   "metadata": {},
   "source": [
    "### Processing Data"
   ]
  },
  {
   "cell_type": "code",
   "execution_count": 29,
   "metadata": {},
   "outputs": [],
   "source": [
    "#tmp = np.array(results[0])\n",
    "tmp = ML\n",
    "dims = (num_simulations, n)\n",
    "names = [\"0-5\", \"5-10\", \"10-15\", \"15-20\", \"0-10\", \"0-15\", \"0-20\", \"Normal\", \"95-100\"]\n",
    "\n",
    "s_05, s_10, s_15, s_20 =  np.reshape(tmp[:,0], dims),  np.reshape(tmp[:,1], dims),  np.reshape(tmp[:,2], dims),  np.reshape(tmp[:,3], dims)\n",
    "s_010, s_015, s_020, s_n, s_95 = np.reshape(tmp[:,4], dims), np.reshape(tmp[:,5], dims),  np.reshape(tmp[:,6], dims),  np.reshape(tmp[:,7], dims),  np.reshape(tmp[:,8], dims)\n",
    "\n",
    "t_05, t_10, t_15, t_20 = np.reshape(tmp[:,9], dims),  np.reshape(tmp[:,10], dims),  np.reshape(tmp[:,11], dims),  np.reshape(tmp[:,12], dims)\n",
    "t_010, t_015, t_020, t_n, t_95 = np.reshape(tmp[:,13], dims), np.reshape(tmp[:,14], dims),  np.reshape(tmp[:,15], dims),  np.reshape(tmp[:,16], dims), np.reshape(tmp[:,17], dims)"
   ]
  },
  {
   "cell_type": "code",
   "execution_count": 30,
   "metadata": {},
   "outputs": [],
   "source": [
    "# Number of Nodes of Network Influenced\n",
    "S_05, S_10, S_15, S_20 =  np.apply_along_axis(np.mean, 0, s_05), np.apply_along_axis(np.mean, 0, s_10), np.apply_along_axis(np.mean, 0, s_15), np.apply_along_axis(np.mean, 0, s_20)\n",
    "S_010, S_015, S_020, S_n, S_95 = np.apply_along_axis(np.mean, 0, s_010), np.apply_along_axis(np.mean, 0, s_015), np.apply_along_axis(np.mean, 0, s_020), np.apply_along_axis(np.mean, 0, s_n), np.apply_along_axis(np.mean, 0, s_95)\n",
    "\n",
    "# Proportion of Network Influenced\n",
    "N_05, N_10, N_15, N_20 =  [x/N for x in S_05], [x/N for x in S_10], [x/N for x in S_15], [x/N for x in S_20]\n",
    "N_010, N_015, N_020, N_n, N_95 = [x/N for x in S_010], [x/N for x in S_015], [x/N for x in S_020], [x/N for x in S_n], [x/N for x in S_95]\n",
    "\n",
    "# Averaged Time of Influenced Nodes\n",
    "T_05, T_10, T_15, T_20 =  np.apply_along_axis(np.mean, 0, t_05), np.apply_along_axis(np.mean, 0, t_10), np.apply_along_axis(np.mean, 0, t_15), np.apply_along_axis(np.mean, 0, t_20)\n",
    "T_010, T_015, T_020, T_n, T_95 = np.apply_along_axis(np.mean, 0, t_010), np.apply_along_axis(np.mean, 0, t_015), np.apply_along_axis(np.mean, 0, t_020), np.apply_along_axis(np.mean, 0, t_n), np.apply_along_axis(np.mean, 0, t_95)"
   ]
  },
  {
   "cell_type": "code",
   "execution_count": 31,
   "metadata": {},
   "outputs": [],
   "source": [
    "#tmp = np.array(results[0])\n",
    "tmp = PC\n",
    "dims = (num_simulations, n)\n",
    "names = [\"0-5\", \"5-10\", \"10-15\", \"15-20\", \"0-10\", \"0-15\", \"0-20\", \"Normal\", \"95-100\"]\n",
    "\n",
    "s2_05, s2_10, s2_15, s2_20 =  np.reshape(tmp[:,0], dims),  np.reshape(tmp[:,1], dims),  np.reshape(tmp[:,2], dims),  np.reshape(tmp[:,3], dims)\n",
    "s2_010, s2_015, s2_020, s2_n, s2_95 = np.reshape(tmp[:,4], dims), np.reshape(tmp[:,5], dims),  np.reshape(tmp[:,6], dims),  np.reshape(tmp[:,7], dims),  np.reshape(tmp[:,8], dims)\n",
    "\n",
    "t2_05, t2_10, t2_15, t2_20 = np.reshape(tmp[:,9], dims),  np.reshape(tmp[:,10], dims),  np.reshape(tmp[:,11], dims),  np.reshape(tmp[:,12], dims)\n",
    "t2_010, t2_015, t2_020, t2_n, t2_95 = np.reshape(tmp[:,13], dims), np.reshape(tmp[:,14], dims),  np.reshape(tmp[:,15], dims),  np.reshape(tmp[:,16], dims), np.reshape(tmp[:,17], dims)"
   ]
  },
  {
   "cell_type": "code",
   "execution_count": 32,
   "metadata": {},
   "outputs": [],
   "source": [
    "# Number of Nodes of Network Influenced\n",
    "S2_05, S2_10, S2_15, S2_20 =  np.apply_along_axis(np.mean, 0, s2_05), np.apply_along_axis(np.mean, 0, s2_10), np.apply_along_axis(np.mean, 0, s2_15), np.apply_along_axis(np.mean, 0, s2_20)\n",
    "S2_010, S2_015, S2_020, S2_n, S2_95 = np.apply_along_axis(np.mean, 0, s2_010), np.apply_along_axis(np.mean, 0, s2_015), np.apply_along_axis(np.mean, 0, s2_020), np.apply_along_axis(np.mean, 0, s2_n), np.apply_along_axis(np.mean, 0, s2_95)\n",
    "\n",
    "# Proportion of Network Influenced\n",
    "N2_05, N2_10, N2_15, N2_20 =  [x/N for x in S2_05], [x/N for x in S2_10], [x/N for x in S2_15], [x/N for x in S2_20]\n",
    "N2_010, N2_015, N2_020, N2_n, N2_95 = [x/N for x in S2_010], [x/N for x in S2_015], [x/N for x in S2_020], [x/N for x in S2_n], [x/N for x in S2_95]\n",
    "\n",
    "# Averaged Time of Influenced Nodes\n",
    "T2_05, T2_10, T2_15, T2_20 =  np.apply_along_axis(np.mean, 0, t2_05), np.apply_along_axis(np.mean, 0, t2_10), np.apply_along_axis(np.mean, 0, t2_15), np.apply_along_axis(np.mean, 0, t2_20)\n",
    "T2_010, T2_015, T2_020, T2_n, T_95 = np.apply_along_axis(np.mean, 0, t2_010), np.apply_along_axis(np.mean, 0, t2_015), np.apply_along_axis(np.mean, 0, t2_020), np.apply_along_axis(np.mean, 0, t2_n), np.apply_along_axis(np.mean, 0, t2_95)"
   ]
  },
  {
   "cell_type": "code",
   "execution_count": 33,
   "metadata": {},
   "outputs": [],
   "source": [
    "def plotter_percent(x1,x2):\n",
    "    plt.plot(n_avg, x1)\n",
    "    plt.plot(n_avg, x2)\n",
    "    plt.ylabel(\"Average Number Influenced\")\n",
    "    plt.xlabel(\"Average Degree\")\n",
    "    plt.title(\"Percentage of Network Influenced\")\n",
    "    plt.legend(names)"
   ]
  },
  {
   "cell_type": "code",
   "execution_count": 34,
   "metadata": {},
   "outputs": [],
   "source": [
    "def plotter_number(x1,x2):    \n",
    "    plt.plot(n_avg, x1)\n",
    "    plt.plot(n_avg, x2)\n",
    "    plt.ylabel(\"Average Number Influenced\")\n",
    "    plt.xlabel(\"Average Degree\")\n",
    "    plt.title(\"Number of Nodes Influenced\")\n",
    "    plt.legend(names)"
   ]
  },
  {
   "cell_type": "code",
   "execution_count": 40,
   "metadata": {},
   "outputs": [
    {
     "data": {
      "image/png": "[encoded data removed]",
      "text/plain": [
       "<Figure size 432x288 with 1 Axes>"
      ]
     },
     "metadata": {
      "needs_background": "light"
     },
     "output_type": "display_data"
    }
   ],
   "source": [
    "plotter_percent(N_05,N2_10)"
   ]
  },
  {
   "cell_type": "code",
   "execution_count": null,
   "metadata": {},
   "outputs": [],
   "source": []
  }
 ],
 "metadata": {
  "kernelspec": {
   "display_name": "Python 3",
   "language": "python",
   "name": "python3"
  },
  "language_info": {
   "codemirror_mode": {
    "name": "ipython",
    "version": 3
   },
   "file_extension": ".py",
   "mimetype": "text/x-python",
   "name": "python",
   "nbconvert_exporter": "python",
   "pygments_lexer": "ipython3",
   "version": "3.7.6"
  }
 },
 "nbformat": 4,
 "nbformat_minor": 4
}
