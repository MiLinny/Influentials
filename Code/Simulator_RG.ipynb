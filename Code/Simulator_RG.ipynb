{
 "cells": [
  {
   "cell_type": "code",
   "execution_count": 1,
   "metadata": {},
   "outputs": [],
   "source": [
    "import networkx as nx\n",
    "from tqdm import tqdm\n",
    "import numpy as np\n",
    "import pandas as pd\n",
    "import matplotlib.pyplot as plt \n",
    "%matplotlib inline "
   ]
  },
  {
   "cell_type": "code",
   "execution_count": 2,
   "metadata": {},
   "outputs": [
    {
     "name": "stderr",
     "output_type": "stream",
     "text": [
      "/home/michael/miniconda3/envs/dask/lib/python3.7/site-packages/distributed/dashboard/core.py:79: UserWarning: \n",
      "Port 8787 is already in use. \n",
      "Perhaps you already have a cluster running?\n",
      "Hosting the diagnostics dashboard on a random port instead.\n",
      "  warnings.warn(\"\\n\" + msg)\n"
     ]
    },
    {
     "data": {
      "text/html": [
       "<table style=\"border: 2px solid white;\">\n",
       "<tr>\n",
       "<td style=\"vertical-align: top; border: 0px solid white\">\n",
       "<h3 style=\"text-align: left;\">Client</h3>\n",
       "<ul style=\"text-align: left; list-style: none; margin: 0; padding: 0;\">\n",
       "  <li><b>Scheduler: </b>tcp://127.0.0.1:38639</li>\n",
       "  <li><b>Dashboard: </b><a href='http://127.0.0.1:40499/status' target='_blank'>http://127.0.0.1:40499/status</a>\n",
       "</ul>\n",
       "</td>\n",
       "<td style=\"vertical-align: top; border: 0px solid white\">\n",
       "<h3 style=\"text-align: left;\">Cluster</h3>\n",
       "<ul style=\"text-align: left; list-style:none; margin: 0; padding: 0;\">\n",
       "  <li><b>Workers: </b>8</li>\n",
       "  <li><b>Cores: </b>16</li>\n",
       "  <li><b>Memory: </b>33.60 GB</li>\n",
       "</ul>\n",
       "</td>\n",
       "</tr>\n",
       "</table>"
      ],
      "text/plain": [
       "<Client: 'tcp://127.0.0.1:38639' processes=8 threads=16, memory=33.60 GB>"
      ]
     },
     "execution_count": 2,
     "metadata": {},
     "output_type": "execute_result"
    }
   ],
   "source": [
    "## Multiprocessing Package\n",
    "from multiprocessing import cpu_count\n",
    "from dask.distributed import Client, progress\n",
    "import dask\n",
    "client = Client(threads_per_worker=2)\n",
    "client"
   ]
  },
  {
   "cell_type": "code",
   "execution_count": 3,
   "metadata": {},
   "outputs": [],
   "source": [
    "#########################################################################################\n",
    "############################### Network Helper Functions  ###############################\n",
    "#########################################################################################\n",
    "\n",
    "'''\n",
    "    Global Variables\n",
    "    N      ::  Number of nodes\n",
    "    phi    ::  Threshold value\n",
    "    label  ::  Attribute name of influence\n",
    "    time   ::  Attribute name of time\n",
    "'''\n",
    "\n",
    "def set_time(G, value, node=None):\n",
    "    '''\n",
    "        Set the time of an individual node in a network G \n",
    "        to value or set the time of all nodes to value.\n",
    "        G      ::  a networkx graph\n",
    "        node   ::  a reference to a node in G\n",
    "        value  ::  a non-negative integer\n",
    "    '''\n",
    "    if node:\n",
    "        G.nodes[node][time] = value\n",
    "    else:\n",
    "        time_attrib = {i : value for i in range(N)}\n",
    "        nx.set_node_attributes(G,time_attrib, time)\n",
    "\n",
    "\n",
    "def set_influence(G, value, node=None):\n",
    "    '''\n",
    "        Set the influence of an individual node in a network G \n",
    "        to value or set the influence of all nodes to value.\n",
    "        G      ::  a networkx graph\n",
    "        node   ::  a reference to a node in G\n",
    "        value  ::  an integer 0 or 1\n",
    "    '''\n",
    "    if node:\n",
    "        G.nodes[node][label] = value\n",
    "    else:\n",
    "        influence_attrib = { i : value for i in range(N) }\n",
    "        nx.set_node_attributes(G,influence_attrib, label)\n",
    "        \n",
    "def get_is_influenced(G, node):\n",
    "    '''\n",
    "        Returns if node in G is influenced.\n",
    "    '''\n",
    "    return G.nodes[node][label]\n",
    "        \n",
    "def get_number_influenced(G):\n",
    "    '''\n",
    "        Get the number of influenced nodes.\n",
    "    '''\n",
    "    return sum(nx.get_node_attributes(G, label).values())\n",
    "\n",
    "#################################################################################\n",
    "########################## Simulation Helper Functions ##########################\n",
    "#################################################################################\n",
    "\n",
    "def get_uninfluenced_neighbours(G, nodes):\n",
    "    '''\n",
    "        Return a set of neighbours of nodes\n",
    "        that are uninfluenced.\n",
    "    '''\n",
    "    neighbours = set()\n",
    "    for node in nodes:\n",
    "        friends = list(G.neighbors(node))\n",
    "        neighbours.update([friend for friend in friends if G.nodes[friend][label] == 0])\n",
    "        ## implication is no node added is in nodes because nodes should all be influenced \n",
    "    \n",
    "    ## In case the above implication doesn't hold...\n",
    "#     tmp = set(nodes)\n",
    "#     neighbours = neighbours - tmp\n",
    "    return neighbours\n",
    "\n",
    "def update_influence(G, node, phi, time):\n",
    "    '''\n",
    "        Assumes the node isn't currently influenced.\n",
    "        Update a node's influence status.\n",
    "        Returns true or false.\n",
    "    '''\n",
    "    friends = list(G.neighbors(node))\n",
    "    num_friends = len(friends)\n",
    "\n",
    "    ## Node with no friends cannot be influenced\n",
    "    if num_friends == 0:\n",
    "        return False\n",
    "\n",
    "    ## Calculate the number of friends who can influence \n",
    "    ## current node and compare with threshold.\n",
    "    num_influenced = sum([1 for friend in friends if G.nodes[friend][label] == 1])\n",
    "    if (num_influenced/num_friends) > phi:\n",
    "        set_influence(G, 1, node)\n",
    "        set_time(G, time, node)\n",
    "        return True\n",
    "    return False\n",
    "    \n",
    "def simulate_spread(G, initial_node, phi):\n",
    "    '''\n",
    "        Simulates the spread of influence from initial node under threshold phi.\n",
    "        Tracks the component of influenced nodes, determines the uninfluenced \n",
    "        neighbours of this component, and determines whether the neighbours \n",
    "        can be influenced. \n",
    "        Returns the number of influenced nodes and expected time to be influenced.\n",
    "    '''\n",
    "    \n",
    "    G_tmp = G.copy()\n",
    "    set_influence(G_tmp, 1, initial_node)\n",
    "\n",
    "    t = [0 for _ in range(N)]\n",
    "    time, num_influenced = 1, 1\n",
    "    t[0] = 1\n",
    "    influenced_nodes = set([initial_node])\n",
    "    \n",
    "    ## Iteratively compute the number of nodes (update t[time]) influenced at\n",
    "    ## each time step until a time step is reached where no neighbours to\n",
    "    ## the influenced component can be influenced.\n",
    "    while num_influenced > 0:\n",
    "        num_influenced = 0\n",
    "        neighbours = get_uninfluenced_neighbours(G_tmp, influenced_nodes)\n",
    "        for node in neighbours:\n",
    "            if update_influence(G_tmp, node, phi, time):\n",
    "                num_influenced += 1\n",
    "                influenced_nodes.add(node)\n",
    "        t[time] = num_influenced\n",
    "        time += 1\n",
    "    \n",
    "    ## Determine the empirical expected time to be influenced\n",
    "    expected_time = sum([i * t[i] for i in range(N)])/N\n",
    "    return (len(influenced_nodes), expected_time)\n",
    "#     return G_tmp"
   ]
  },
  {
   "cell_type": "code",
   "execution_count": 116,
   "metadata": {},
   "outputs": [],
   "source": [
    "#################################################################################\n",
    "############################# Simulation  Functions #############################\n",
    "#################################################################################\n",
    "\n",
    "def run_simulation_RG(p):\n",
    "    '''\n",
    "        Simulation of Poisson/Binomial Random Graph\n",
    "        Returns the average size of influenced nodes and average expected \n",
    "        time to be influenced from \n",
    "            - influential nodes\n",
    "            - normal nodes\n",
    "    '''\n",
    "    G = nx.erdos_renyi_graph(N,p)\n",
    "    set_influence(G, 0)\n",
    "    set_time(G, 0)\n",
    "    \n",
    "    ## Retrieve influential nodes - top q% and non-influential nodes\n",
    "    degree_ordered_nodes = sorted(list(G.nodes()), key=lambda x: G.degree(x), reverse=True)\n",
    "    influential_nodes = degree_ordered_nodes[:int(q*N)]\n",
    "#     normal_nodes = degree_ordered_nodes[int(q*N):]\n",
    "    \n",
    "    average = p * (N-1)\n",
    "    lower, upper = int(np.floor(average)), int(np.ceil(average))\n",
    "    normal_nodes = [x for x in G.nodes() if lower <= G.degree(x) <= upper ]\n",
    "\n",
    "    influential_S = []\n",
    "    influential_t = []\n",
    "    normal_S = []\n",
    "    normal_t = []\n",
    "    \n",
    "    ## Calculate the number of influenced nodes (S) and expected time of influenced nodes\n",
    "    ## for each influential node\n",
    "    for node in influential_nodes:\n",
    "        S, t = simulate_spread(G, node, phi)\n",
    "        influential_S.append(S)\n",
    "        influential_t.append(t)\n",
    "        \n",
    "    ## Calculate the number of influenced nodes (S) and expected time of influenced nodes\n",
    "    ## for each normal node\n",
    "    for node in normal_nodes:\n",
    "        S, t = simulate_spread(G, node, phi)\n",
    "        normal_S.append(S)\n",
    "        normal_t.append(t)\n",
    "\n",
    "    return [np.mean(influential_S), np.mean(normal_S), np.mean(influential_t), np.mean(normal_t)]"
   ]
  },
  {
   "cell_type": "markdown",
   "metadata": {},
   "source": [
    "# Simulation of Poisson Random Graph\n",
    "\n",
    "The following code is for simulating and measuring the cascade of influentials."
   ]
  },
  {
   "cell_type": "code",
   "execution_count": 108,
   "metadata": {},
   "outputs": [],
   "source": [
    "######################################################################\n",
    "############################# Parameters #############################\n",
    "######################################################################\n",
    "\n",
    "N = 100\n",
    "q = 0.1   \n",
    "phi = 0.18\n",
    "max_n_avg = 5\n",
    "increment = 1\n",
    "num_simulations = 5\n",
    "label = 'is_influenced'\n",
    "time = 'time'\n",
    "\n",
    "n_avg = np.arange(1, max_n_avg, increment)\n",
    "p = [avg/(N-1) for avg in n_avg]\n",
    "n = len(p)"
   ]
  },
  {
   "cell_type": "code",
   "execution_count": 117,
   "metadata": {},
   "outputs": [
    {
     "name": "stderr",
     "output_type": "stream",
     "text": [
      "100%|██████████| 5/5 [00:00<00:00, 2524.56it/s]\n"
     ]
    },
    {
     "name": "stdout",
     "output_type": "stream",
     "text": [
      "CPU times: user 127 ms, sys: 1.85 ms, total: 128 ms\n",
      "Wall time: 545 ms\n"
     ]
    }
   ],
   "source": [
    "%%time\n",
    "pool = []\n",
    "x = []\n",
    "for i in tqdm(range(num_simulations)):\n",
    "    for j in range(n):\n",
    "        pool.append(dask.delayed(run_simulation_RG)(p[j]))\n",
    "\n",
    "results = dask.compute(pool)"
   ]
  },
  {
   "cell_type": "code",
   "execution_count": 118,
   "metadata": {},
   "outputs": [],
   "source": [
    "tmp = np.array(results[0])\n",
    "dims = (num_simulations, n)\n",
    "names = [\"Influential\", \"Normal\"]\n",
    "\n",
    "S_influential = np.reshape(tmp[:,0], dims)\n",
    "t_influential = np.reshape(tmp[:,2], dims)\n",
    "S_normal = np.reshape(tmp[:,1], dims)\n",
    "t_normal = np.reshape(tmp[:,3], dims)\n",
    "\n",
    "# Averaged Time of Influenced Nodes\n",
    "T_influential = np.apply_along_axis(np.mean, 0, t_influential)\n",
    "T_normal = np.apply_along_axis(np.mean, 0, t_normal)\n",
    "\n",
    "# Number of Nodes of Network Influenced\n",
    "N_influential = np.apply_along_axis(np.mean, 0, S_influential)\n",
    "N_normal = np.apply_along_axis(np.mean, 0, S_normal)\n",
    "\n",
    "# Proportion of Network Influenced\n",
    "P_influential = [x/N for x in N_influential]\n",
    "P_normal = [x/N for x in N_normal]"
   ]
  },
  {
   "cell_type": "code",
   "execution_count": 119,
   "metadata": {},
   "outputs": [
    {
     "data": {
      "text/plain": [
       "array([ 3.17555556, 36.76      , 58.09777778, 46.83333333])"
      ]
     },
     "execution_count": 119,
     "metadata": {},
     "output_type": "execute_result"
    }
   ],
   "source": [
    "N_normal"
   ]
  },
  {
   "cell_type": "markdown",
   "metadata": {},
   "source": [
    "### Plotting"
   ]
  },
  {
   "cell_type": "code",
   "execution_count": 120,
   "metadata": {},
   "outputs": [
    {
     "data": {
      "text/plain": [
       "<matplotlib.legend.Legend at 0x7fa5099a8950>"
      ]
     },
     "execution_count": 120,
     "metadata": {},
     "output_type": "execute_result"
    },
    {
     "data": {
      "image/png": "[encoded data removed]",
      "text/plain": [
       "<Figure size 432x288 with 1 Axes>"
      ]
     },
     "metadata": {
      "needs_background": "light"
     },
     "output_type": "display_data"
    }
   ],
   "source": [
    "plt.plot(n_avg, N_influential, \"-s\")\n",
    "plt.plot(n_avg, N_normal, \"-o\")\n",
    "plt.ylabel(\"Average Number Influenced\")\n",
    "plt.xlabel(\"Average Degree\")\n",
    "plt.title(\"Number of Nodes Influenced\")\n",
    "plt.legend(names)"
   ]
  },
  {
   "cell_type": "code",
   "execution_count": 121,
   "metadata": {},
   "outputs": [
    {
     "data": {
      "text/plain": [
       "<matplotlib.legend.Legend at 0x7fa56d96fe10>"
      ]
     },
     "execution_count": 121,
     "metadata": {},
     "output_type": "execute_result"
    },
    {
     "data": {
      "image/png": "[encoded data removed]",
      "text/plain": [
       "<Figure size 432x288 with 1 Axes>"
      ]
     },
     "metadata": {
      "needs_background": "light"
     },
     "output_type": "display_data"
    }
   ],
   "source": [
    "plt.plot(n_avg, P_influential, \"-o\")\n",
    "plt.plot(n_avg, P_normal, \"-o\")\n",
    "plt.ylabel(\"Average Number Influenced\")\n",
    "plt.xlabel(\"Average Degree\")\n",
    "plt.title(\"Percentage of Network Influenced\")\n",
    "plt.legend(names)"
   ]
  },
  {
   "cell_type": "code",
   "execution_count": 122,
   "metadata": {},
   "outputs": [
    {
     "data": {
      "text/plain": [
       "<matplotlib.legend.Legend at 0x7fa509abb390>"
      ]
     },
     "execution_count": 122,
     "metadata": {},
     "output_type": "execute_result"
    },
    {
     "data": {
      "image/png": "[encoded data removed]",
      "text/plain": [
       "<Figure size 432x288 with 1 Axes>"
      ]
     },
     "metadata": {
      "needs_background": "light"
     },
     "output_type": "display_data"
    }
   ],
   "source": [
    "plt.plot(n_avg, T_influential, \"-o\")\n",
    "plt.plot(n_avg, T_normal, \"-o\")\n",
    "plt.ylabel(\"Average Time of Influenced\")\n",
    "plt.xlabel(\"Average Degree\")\n",
    "plt.title(\"Comparison of Average Influenced Time against Average Degree\")\n",
    "plt.legend(names)"
   ]
  },
  {
   "cell_type": "code",
   "execution_count": null,
   "metadata": {},
   "outputs": [],
   "source": []
  },
  {
   "cell_type": "code",
   "execution_count": null,
   "metadata": {},
   "outputs": [],
   "source": []
  }
 ],
 "metadata": {
  "kernelspec": {
   "display_name": "Python 3",
   "language": "python",
   "name": "python3"
  },
  "language_info": {
   "codemirror_mode": {
    "name": "ipython",
    "version": 3
   },
   "file_extension": ".py",
   "mimetype": "text/x-python",
   "name": "python",
   "nbconvert_exporter": "python",
   "pygments_lexer": "ipython3",
   "version": "3.7.6"
  }
 },
 "nbformat": 4,
 "nbformat_minor": 4
}
