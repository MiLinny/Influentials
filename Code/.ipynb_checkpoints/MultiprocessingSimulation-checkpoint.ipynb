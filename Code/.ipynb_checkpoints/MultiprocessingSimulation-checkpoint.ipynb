{
 "cells": [
  {
   "cell_type": "code",
   "execution_count": 1,
   "metadata": {},
   "outputs": [],
   "source": [
    "import networkx as nx\n",
    "from tqdm import tqdm\n",
    "import numpy as np\n",
    "import pandas as pd\n",
    "import matplotlib.pyplot as plt "
   ]
  },
  {
   "cell_type": "code",
   "execution_count": 14,
   "metadata": {},
   "outputs": [],
   "source": [
    "from multiprocessing import Pool, cpu_count"
   ]
  },
  {
   "cell_type": "code",
   "execution_count": 3,
   "metadata": {},
   "outputs": [],
   "source": [
    "#################################################################################\n",
    "############################### Helper Functions  ###############################\n",
    "#################################################################################\n",
    "\n",
    "def set_influence(G, value, node=None):\n",
    "    '''\n",
    "        Set influence of a node in a network G or\n",
    "        set influence of all nodes to value.\n",
    "        G      ::  a networkx graph\n",
    "        node   ::  a reference to a node in G\n",
    "        value  ::  an integer 0 or 1\n",
    "    '''\n",
    "    if node:\n",
    "        G.nodes[node][label] = value\n",
    "    else:\n",
    "        influence_attrib = { i : value for i in range(N) }\n",
    "        nx.set_node_attributes(G,influence_attrib, label)\n",
    "        \n",
    "def get_is_influenced(G, node):\n",
    "    return G.nodes[node][label]\n",
    "        \n",
    "def get_number_influenced(G):\n",
    "    '''\n",
    "        Get the number of influenced nodes.\n",
    "    '''\n",
    "    return sum(nx.get_node_attributes(G, label).values())\n",
    "\n",
    "def check_can_influence(G, node, q):\n",
    "    '''\n",
    "        Determines whether a node is influenced by\n",
    "        its neighbours. (Threshold Check)\n",
    "    '''\n",
    "    if get_is_influenced(G, node) == 1:\n",
    "        return False\n",
    "    \n",
    "    friends = list(G.neighbors(node))\n",
    "    num_friends = len(friends)\n",
    "    \n",
    "    if num_friends == 0:\n",
    "        return False\n",
    "    \n",
    "    num_influenced = sum([1 for friend in friends if G.nodes[friend][label] == 1])\n",
    "    \n",
    "    if num_influenced/num_friends > q:\n",
    "        return True\n",
    "    return False\n",
    "\n",
    "#################################################################################\n",
    "########################## Simulation Helper Functions ##########################\n",
    "#################################################################################\n",
    "\n",
    "def spread_influence(G, current_node, phi):\n",
    "    '''\n",
    "        Recursive function to spread influence \n",
    "        from current_node in G.\n",
    "    '''\n",
    "    \n",
    "    ## Not interesting\n",
    "    if get_is_influenced(G, current_node) == 0 and not check_can_influence(G, current_node, phi):\n",
    "        return\n",
    "    else:\n",
    "        set_influence(G, 1, current_node)\n",
    "        ## Find uninfluenced friends\n",
    "        friends = list(G.neighbors(current_node))\n",
    "        targets = [friend for friend in friends if G.nodes[friend][label] == 0]\n",
    "        \n",
    "        for friend in targets:\n",
    "            spread_influence(G, friend, phi)\n",
    "        \n",
    "def get_vulnerable(G, phi):\n",
    "    '''\n",
    "        Check for vulnerable nodes.\n",
    "        Return list of vulnerable nodes.\n",
    "    '''\n",
    "    vulnerable = []\n",
    "    for node in G.nodes():\n",
    "        if check_can_influence(G, node, phi):\n",
    "            vulnerable.append(node)\n",
    "    return vulnerable\n",
    "        \n",
    "def simulate_spread(G, nodes, phi):\n",
    "    '''\n",
    "        Simulates the spread of influence starting from each \n",
    "        node in nodes and returns a list containing the \n",
    "        number of influenced from starting at each node.\n",
    "    '''\n",
    "    S = []\n",
    "    for node in nodes:\n",
    "        G_tmp = G.copy()\n",
    "        set_influence(G_tmp, 1, node)\n",
    "        spread_influence(G_tmp, node, phi)\n",
    "        \n",
    "        vulnerable = get_vulnerable(G_tmp, phi)\n",
    "\n",
    "        while len(vulnerable) != 0:\n",
    "            for vul in vulnerable:\n",
    "                spread_influence(G_tmp, vul, phi)\n",
    "            vulnerable = get_vulnerable(G_tmp, phi)\n",
    "\n",
    "        S.append(get_number_influenced(G_tmp))\n",
    "        \n",
    "    return S"
   ]
  },
  {
   "cell_type": "code",
   "execution_count": 4,
   "metadata": {},
   "outputs": [],
   "source": [
    "def run_simulation(probability):\n",
    "    G = nx.erdos_renyi_graph(N, probability)\n",
    "    set_influence(G, 0)\n",
    "    ## Retrieve influential nodes - top q% and non-influential nodes\n",
    "    degree_ordered_nodes = sorted(list(G.nodes()), key=lambda x: G.degree(x), reverse=True)\n",
    "    influential_nodes = degree_ordered_nodes[:int(q*N)]\n",
    "    normal_nodes = degree_ordered_nodes[int(q*N):]\n",
    "    ## Simulation\n",
    "    influential = simulate_spread(G, influential_nodes, phi)\n",
    "    normal = simulate_spread(G, normal_nodes, phi)\n",
    "    ## Store results\n",
    "    S_influential = np.mean(influential)\n",
    "    S_normal = (np.mean(normal))\n",
    "    \n",
    "    return [S_influential, S_normal]"
   ]
  },
  {
   "cell_type": "code",
   "execution_count": 70,
   "metadata": {},
   "outputs": [],
   "source": [
    "## Parameters\n",
    "\n",
    "N = 1000\n",
    "q = 0.1   \n",
    "phi = 0.18\n",
    "max_n_avg = 4\n",
    "increment = 0.2\n",
    "num_simulations = 75\n",
    "label = 'is_influenced'\n",
    "\n",
    "\n",
    "n_avg = np.arange(1, max_n_avg, increment)\n",
    "p = [avg/(N-1) for avg in n_avg]\n",
    "n = len(p)\n",
    "S = np.zeros([num_simulations, n, 2])"
   ]
  },
  {
   "cell_type": "code",
   "execution_count": 71,
   "metadata": {},
   "outputs": [
    {
     "name": "stderr",
     "output_type": "stream",
     "text": [
      "100%|██████████| 75/75 [2:12:53<00:00, 106.32s/it]"
     ]
    },
    {
     "name": "stdout",
     "output_type": "stream",
     "text": [
      "CPU times: user 3.93 s, sys: 1.21 s, total: 5.15 s\n",
      "Wall time: 2h 12min 53s\n"
     ]
    },
    {
     "name": "stderr",
     "output_type": "stream",
     "text": [
      "\n"
     ]
    }
   ],
   "source": [
    "%%time\n",
    "\n",
    "with Pool(processes=cpu_count()) as pool:\n",
    "    for i in tqdm(range(num_simulations)):\n",
    "        S[i] = pool.map(run_simulation, p)"
   ]
  },
  {
   "cell_type": "code",
   "execution_count": 75,
   "metadata": {},
   "outputs": [
    {
     "data": {
      "text/plain": [
       "0.1"
      ]
     },
     "execution_count": 75,
     "metadata": {},
     "output_type": "execute_result"
    }
   ],
   "source": []
  },
  {
   "cell_type": "code",
   "execution_count": 76,
   "metadata": {},
   "outputs": [],
   "source": [
    "S_influential = S[:,:,0]\n",
    "S_normal = S[:,:,1]"
   ]
  },
  {
   "cell_type": "code",
   "execution_count": 77,
   "metadata": {},
   "outputs": [],
   "source": [
    "##########################\n",
    "### Processing Results ###\n",
    "##########################\n",
    "names = [\"Influential\", \"Normal\"]\n",
    "\n",
    "# Number of Nodes of Network Influenced\n",
    "N_influential = np.apply_along_axis(np.mean, 0, S_influential)\n",
    "N_normal = np.apply_along_axis(np.mean, 0, S_normal)\n",
    "\n",
    "# Proportion of Network Influenced\n",
    "P_influential = [x/N for x in N_influential]\n",
    "P_normal = [x/N for x in N_normal]"
   ]
  },
  {
   "cell_type": "code",
   "execution_count": 78,
   "metadata": {},
   "outputs": [
    {
     "data": {
      "text/plain": [
       "<matplotlib.legend.Legend at 0x11d59a750>"
      ]
     },
     "execution_count": 78,
     "metadata": {},
     "output_type": "execute_result"
    },
    {
     "data": {
      "image/png": "[encoded data removed]",
      "text/plain": [
       "<Figure size 432x288 with 1 Axes>"
      ]
     },
     "metadata": {
      "needs_background": "light"
     },
     "output_type": "display_data"
    }
   ],
   "source": [
    "############\n",
    "### Pots ###\n",
    "############\n",
    "\n",
    "plt.plot(n_avg, N_influential, \"-s\")\n",
    "plt.plot(n_avg, N_normal, \"-o\")\n",
    "plt.ylabel(\"Average Number Influenced\")\n",
    "plt.xlabel(\"Average Degree\")\n",
    "plt.title(\"Number of Nodes Influenced\")\n",
    "plt.legend(names)"
   ]
  },
  {
   "cell_type": "code",
   "execution_count": 79,
   "metadata": {},
   "outputs": [
    {
     "data": {
      "text/plain": [
       "<matplotlib.legend.Legend at 0x11c408610>"
      ]
     },
     "execution_count": 79,
     "metadata": {},
     "output_type": "execute_result"
    },
    {
     "data": {
      "image/png": "[encoded data removed]",
      "text/plain": [
       "<Figure size 432x288 with 1 Axes>"
      ]
     },
     "metadata": {
      "needs_background": "light"
     },
     "output_type": "display_data"
    }
   ],
   "source": [
    "plt.plot(n_avg, P_influential, \"-o\")\n",
    "plt.plot(n_avg, P_normal, \"-o\")\n",
    "plt.ylabel(\"Average Number Influenced\")\n",
    "plt.xlabel(\"Average Degree\")\n",
    "plt.title(\"Percentage of Network Influenced\")\n",
    "plt.legend(names)"
   ]
  },
  {
   "cell_type": "code",
   "execution_count": null,
   "metadata": {},
   "outputs": [],
   "source": []
  }
 ],
 "metadata": {
  "kernelspec": {
   "display_name": "Python 3",
   "language": "python",
   "name": "python3"
  },
  "language_info": {
   "codemirror_mode": {
    "name": "ipython",
    "version": 3
   },
   "file_extension": ".py",
   "mimetype": "text/x-python",
   "name": "python",
   "nbconvert_exporter": "python",
   "pygments_lexer": "ipython3",
   "version": "3.7.6"
  }
 },
 "nbformat": 4,
 "nbformat_minor": 4
}
