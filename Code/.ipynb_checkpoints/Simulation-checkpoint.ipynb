{
 "cells": [
  {
   "cell_type": "code",
   "execution_count": 1,
   "metadata": {},
   "outputs": [],
   "source": [
    "import networkx as nx\n",
    "from tqdm import tqdm\n",
    "import numpy as np\n",
    "import matplotlib.pyplot as plt \n",
    "%matplotlib inline "
   ]
  },
  {
   "cell_type": "code",
   "execution_count": null,
   "metadata": {},
   "outputs": [],
   "source": [
    "## tqdm overflow issues\n",
    "\n",
    "# from tqdm.notebook import tqdm\n",
    "\n",
    "# #usual installation \n",
    "# pip install ipywidgets \n",
    "# jupyter nbextension enable --py widgetsnbextension\n",
    "# #you are my saver!\n",
    "# jupyter labextension install @jupyter-widgets/jupyterlab-manager"
   ]
  },
  {
   "cell_type": "code",
   "execution_count": 2,
   "metadata": {},
   "outputs": [],
   "source": [
    "#################################################################################\n",
    "############################### Helper Functions  ###############################\n",
    "#################################################################################\n",
    "\n",
    "def set_influence(G, value, node=None):\n",
    "    '''\n",
    "        Set influence of a node in a network G or\n",
    "        set influence of all nodes to value.\n",
    "        G      ::  a networkx graph\n",
    "        node   ::  a reference to a node in G\n",
    "        value  ::  an integer 0 or 1\n",
    "    '''\n",
    "    if node:\n",
    "        G.nodes[node][label] = value\n",
    "    else:\n",
    "        influence_attrib = { i : 0 for i in range(N) }\n",
    "        nx.set_node_attributes(G,influence_attrib, label)\n",
    "        \n",
    "def get_is_influenced(G, node):\n",
    "    return G.nodes[node][label]\n",
    "        \n",
    "def get_number_influenced(G):\n",
    "    '''\n",
    "        Get the number of influenced nodes.\n",
    "    '''\n",
    "    return sum(nx.get_node_attributes(G, label).values())\n",
    "\n",
    "def check_can_influence(G, node, q):\n",
    "    '''\n",
    "        Determines whether a node is influenced by\n",
    "        its neighbours. (Threshold Check)\n",
    "    '''\n",
    "    if get_is_influenced(G, node) == 1:\n",
    "        return False\n",
    "    \n",
    "    friends = list(G.neighbors(node))\n",
    "    num_friends = len(friends)\n",
    "    \n",
    "    if num_friends == 0:\n",
    "        return False\n",
    "    \n",
    "    num_influenced = sum([1 for friend in friends if G.nodes[friend][label] == 1])\n",
    "    \n",
    "    if num_influenced/num_friends > q:\n",
    "        return True\n",
    "    return False"
   ]
  },
  {
   "cell_type": "code",
   "execution_count": 3,
   "metadata": {},
   "outputs": [],
   "source": [
    "#################################################################################\n",
    "########################## Simulation Helper Functions ##########################\n",
    "#################################################################################\n",
    "\n",
    "def spread_influence(G, current_node, phi):\n",
    "    '''\n",
    "        Recursive function to spread influence \n",
    "        from current_node in G.\n",
    "    '''\n",
    "    \n",
    "    ## Not interesting\n",
    "    if get_is_influenced(G, current_node) == 0 and not check_can_influence(G, current_node, phi):\n",
    "        return\n",
    "    else:\n",
    "        set_influence(G, 1, current_node)\n",
    "        ## Find uninfluenced friends\n",
    "        friends = list(G.neighbors(current_node))\n",
    "        targets = [friend for friend in friends if G.nodes[friend][label] == 0]\n",
    "        \n",
    "        for friend in targets:\n",
    "            spread_influence(G, friend, phi)\n",
    "        \n",
    "def get_vulnerable(G, phi):\n",
    "    '''\n",
    "        Check for vulnerable nodes.\n",
    "        Return list of vulnerable nodes.\n",
    "    '''\n",
    "    vulnerable = []\n",
    "    for node in G.nodes():\n",
    "        if check_can_influence(G, node, phi):\n",
    "            vulnerable.append(node)\n",
    "    return vulnerable\n",
    "        \n",
    "def simulate_spread(G, nodes, phi):\n",
    "    '''\n",
    "        Simulates the spread of influence starting from each \n",
    "        node in nodes and returns a list containing the \n",
    "        number of influenced from starting at each node.\n",
    "    '''\n",
    "    S = []\n",
    "    for node in nodes:\n",
    "        G_tmp = G.copy()\n",
    "        set_influence(G_tmp, 1, node)\n",
    "        spread_influence(G_tmp, node, phi)\n",
    "        \n",
    "        vulnerable = get_vulnerable(G_tmp, phi)\n",
    "\n",
    "        while len(vulnerable) != 0:\n",
    "            for vul in vulnerable:\n",
    "                spread_influence(G_tmp, vul, phi)\n",
    "            vulnerable = get_vulnerable(G_tmp, phi)\n",
    "\n",
    "        S.append(get_number_influenced(G_tmp))\n",
    "        \n",
    "    return S\n"
   ]
  },
  {
   "cell_type": "code",
   "execution_count": 4,
   "metadata": {},
   "outputs": [],
   "source": [
    "#################################################################################\n",
    "######################## Simulation Setup and Parameters ########################\n",
    "#################################################################################\n",
    "\n",
    "label = 'is_influenced'\n",
    "## Top q% of influence (degree) distribution are classified as influential\n",
    "q = 0.1   \n",
    "## Threshold \n",
    "phi = 0.18"
   ]
  },
  {
   "cell_type": "code",
   "execution_count": null,
   "metadata": {},
   "outputs": [],
   "source": [
    "'''\n",
    "    Test Run\n",
    "'''\n",
    "## Random Graph and Parameters\n",
    "N = 100\n",
    "p = 0.0015\n",
    "G = nx.erdos_renyi_graph(N, p, seed=2020)\n",
    "\n",
    "G_tmp = G.copy()\n",
    "## Setup influence attribute\n",
    "set_influence(G, 0)\n",
    "## Retrieve influential nodes - top q% and non-influential nodes\n",
    "degree_ordered_nodes = sorted(list(G.nodes()), key=lambda x: G.degree(x), reverse=True)\n",
    "influential_nodes = degree_ordered_nodes[:int(q*N)]\n",
    "normie_nodes = degree_ordered_nodes[int(q*N):]\n",
    "## Compute Results\n",
    "S_influenced = simulate_spread(G, influential_nodes, phi)\n",
    "S_normie = simulate_spread(G, normie_nodes, phi)"
   ]
  },
  {
   "cell_type": "code",
   "execution_count": 43,
   "metadata": {},
   "outputs": [
    {
     "name": "stderr",
     "output_type": "stream",
     "text": [
      "\n",
      "  0%|          | 0/100 [00:00<?, ?it/s]\u001b[A\n",
      "  1%|          | 1/100 [00:03<06:29,  3.93s/it]\u001b[A\n",
      "  2%|▏         | 2/100 [00:07<06:24,  3.92s/it]\u001b[A\n",
      "  3%|▎         | 3/100 [00:11<06:21,  3.94s/it]\u001b[A\n",
      "  4%|▍         | 4/100 [00:15<06:20,  3.97s/it]\u001b[A\n",
      "  5%|▌         | 5/100 [00:19<06:14,  3.94s/it]\u001b[A\n",
      "  6%|▌         | 6/100 [00:23<06:08,  3.92s/it]\u001b[A\n",
      "  7%|▋         | 7/100 [00:27<06:04,  3.92s/it]\u001b[A\n",
      "  8%|▊         | 8/100 [00:31<05:57,  3.88s/it]\u001b[A\n",
      "  9%|▉         | 9/100 [00:35<05:52,  3.88s/it]\u001b[A\n",
      " 10%|█         | 10/100 [00:39<05:52,  3.91s/it]\u001b[A\n",
      " 11%|█         | 11/100 [00:43<05:54,  3.99s/it]\u001b[A\n",
      " 12%|█▏        | 12/100 [00:47<05:54,  4.02s/it]\u001b[A\n",
      " 13%|█▎        | 13/100 [00:50<05:37,  3.88s/it]\u001b[A\n",
      " 14%|█▍        | 14/100 [00:54<05:33,  3.88s/it]\u001b[A\n",
      " 15%|█▌        | 15/100 [00:58<05:28,  3.86s/it]\u001b[A\n",
      " 16%|█▌        | 16/100 [01:02<05:21,  3.83s/it]\u001b[A\n",
      " 17%|█▋        | 17/100 [01:06<05:17,  3.82s/it]\u001b[A\n",
      " 18%|█▊        | 18/100 [01:09<05:07,  3.75s/it]\u001b[A\n",
      " 19%|█▉        | 19/100 [01:13<05:00,  3.71s/it]\u001b[A\n",
      " 20%|██        | 20/100 [01:17<05:00,  3.75s/it]\u001b[A\n",
      " 21%|██        | 21/100 [01:21<05:02,  3.83s/it]\u001b[A\n",
      " 22%|██▏       | 22/100 [01:25<05:01,  3.87s/it]\u001b[A\n",
      " 23%|██▎       | 23/100 [01:28<04:51,  3.79s/it]\u001b[A\n",
      " 24%|██▍       | 24/100 [01:32<04:49,  3.80s/it]\u001b[A\n",
      " 25%|██▌       | 25/100 [01:36<04:47,  3.83s/it]\u001b[A\n",
      " 26%|██▌       | 26/100 [01:40<04:47,  3.88s/it]\u001b[A\n",
      " 27%|██▋       | 27/100 [01:44<04:43,  3.88s/it]\u001b[A\n",
      " 28%|██▊       | 28/100 [01:48<04:37,  3.86s/it]\u001b[A\n",
      " 29%|██▉       | 29/100 [01:51<04:28,  3.78s/it]\u001b[A\n",
      " 30%|███       | 30/100 [01:55<04:28,  3.83s/it]\u001b[A\n",
      " 31%|███       | 31/100 [01:59<04:22,  3.80s/it]\u001b[A\n",
      " 32%|███▏      | 32/100 [02:03<04:18,  3.80s/it]\u001b[A\n",
      " 33%|███▎      | 33/100 [02:07<04:17,  3.84s/it]\u001b[A\n",
      " 34%|███▍      | 34/100 [02:10<04:10,  3.80s/it]\u001b[A\n",
      " 35%|███▌      | 35/100 [02:14<04:06,  3.79s/it]\u001b[A\n",
      " 36%|███▌      | 36/100 [02:18<04:04,  3.83s/it]\u001b[A\n",
      " 37%|███▋      | 37/100 [02:22<04:09,  3.97s/it]\u001b[A\n",
      " 38%|███▊      | 38/100 [02:26<04:03,  3.93s/it]\u001b[A\n",
      " 39%|███▉      | 39/100 [02:30<03:59,  3.92s/it]\u001b[A\n",
      " 40%|████      | 40/100 [02:34<03:56,  3.94s/it]\u001b[A\n",
      " 41%|████      | 41/100 [02:38<03:58,  4.03s/it]\u001b[A\n",
      " 42%|████▏     | 42/100 [02:42<03:50,  3.97s/it]\u001b[A\n",
      " 43%|████▎     | 43/100 [02:46<03:41,  3.89s/it]\u001b[A\n",
      " 44%|████▍     | 44/100 [02:50<03:42,  3.97s/it]\u001b[A\n",
      " 45%|████▌     | 45/100 [02:54<03:43,  4.06s/it]\u001b[A\n",
      " 46%|████▌     | 46/100 [02:58<03:36,  4.02s/it]\u001b[A\n",
      " 47%|████▋     | 47/100 [03:02<03:28,  3.94s/it]\u001b[A\n",
      " 48%|████▊     | 48/100 [03:06<03:20,  3.86s/it]\u001b[A\n",
      " 49%|████▉     | 49/100 [03:10<03:17,  3.88s/it]\u001b[A\n",
      " 50%|█████     | 50/100 [03:13<03:12,  3.85s/it]\u001b[A\n",
      " 51%|█████     | 51/100 [03:18<03:11,  3.91s/it]\u001b[A\n",
      " 52%|█████▏    | 52/100 [03:21<03:07,  3.90s/it]\u001b[A\n",
      " 53%|█████▎    | 53/100 [03:25<03:02,  3.89s/it]\u001b[A\n",
      " 54%|█████▍    | 54/100 [03:29<03:01,  3.94s/it]\u001b[A\n",
      " 55%|█████▌    | 55/100 [03:33<02:55,  3.90s/it]\u001b[A\n",
      " 56%|█████▌    | 56/100 [03:37<02:49,  3.85s/it]\u001b[A\n",
      " 57%|█████▋    | 57/100 [03:41<02:43,  3.81s/it]\u001b[A\n",
      " 58%|█████▊    | 58/100 [03:44<02:40,  3.83s/it]\u001b[A\n",
      " 59%|█████▉    | 59/100 [03:48<02:39,  3.88s/it]\u001b[A\n",
      " 60%|██████    | 60/100 [03:52<02:36,  3.92s/it]\u001b[A\n",
      " 61%|██████    | 61/100 [03:56<02:30,  3.85s/it]\u001b[A\n",
      " 62%|██████▏   | 62/100 [04:00<02:28,  3.91s/it]\u001b[A\n",
      " 63%|██████▎   | 63/100 [04:05<02:36,  4.22s/it]\u001b[A\n",
      " 64%|██████▍   | 64/100 [04:10<02:34,  4.30s/it]\u001b[A\n",
      " 65%|██████▌   | 65/100 [04:14<02:26,  4.20s/it]\u001b[A\n",
      " 66%|██████▌   | 66/100 [04:18<02:21,  4.17s/it]\u001b[A\n",
      " 67%|██████▋   | 67/100 [04:21<02:13,  4.05s/it]\u001b[A\n",
      " 68%|██████▊   | 68/100 [04:25<02:07,  3.99s/it]\u001b[A\n",
      " 69%|██████▉   | 69/100 [04:29<02:02,  3.94s/it]\u001b[A\n",
      " 70%|███████   | 70/100 [04:33<01:56,  3.87s/it]\u001b[A\n",
      " 71%|███████   | 71/100 [04:37<01:51,  3.85s/it]\u001b[A\n",
      " 72%|███████▏  | 72/100 [04:40<01:46,  3.81s/it]\u001b[A\n",
      " 73%|███████▎  | 73/100 [04:44<01:43,  3.83s/it]\u001b[A\n",
      " 74%|███████▍  | 74/100 [04:48<01:38,  3.79s/it]\u001b[A\n",
      " 75%|███████▌  | 75/100 [04:52<01:35,  3.80s/it]\u001b[A\n",
      " 76%|███████▌  | 76/100 [04:56<01:32,  3.84s/it]\u001b[A\n",
      " 77%|███████▋  | 77/100 [04:59<01:26,  3.78s/it]\u001b[A\n",
      " 78%|███████▊  | 78/100 [05:03<01:23,  3.81s/it]\u001b[A\n",
      " 79%|███████▉  | 79/100 [05:07<01:19,  3.78s/it]\u001b[A\n",
      " 80%|████████  | 80/100 [05:11<01:15,  3.76s/it]\u001b[A\n",
      " 81%|████████  | 81/100 [05:14<01:10,  3.72s/it]\u001b[A\n",
      " 82%|████████▏ | 82/100 [05:18<01:07,  3.75s/it]\u001b[A\n",
      " 83%|████████▎ | 83/100 [05:22<01:04,  3.80s/it]\u001b[A\n",
      " 84%|████████▍ | 84/100 [05:26<01:01,  3.84s/it]\u001b[A\n",
      " 85%|████████▌ | 85/100 [05:30<00:57,  3.82s/it]\u001b[A\n",
      " 86%|████████▌ | 86/100 [05:34<00:53,  3.81s/it]\u001b[A\n",
      " 87%|████████▋ | 87/100 [05:38<00:50,  3.88s/it]\u001b[A\n",
      " 88%|████████▊ | 88/100 [05:41<00:46,  3.84s/it]\u001b[A\n",
      " 89%|████████▉ | 89/100 [05:45<00:42,  3.83s/it]\u001b[A\n",
      " 90%|█████████ | 90/100 [05:49<00:38,  3.86s/it]\u001b[A\n",
      " 91%|█████████ | 91/100 [05:53<00:34,  3.81s/it]\u001b[A\n",
      " 92%|█████████▏| 92/100 [05:56<00:30,  3.79s/it]\u001b[A\n",
      " 93%|█████████▎| 93/100 [06:01<00:27,  3.90s/it]\u001b[A\n",
      " 94%|█████████▍| 94/100 [06:05<00:23,  3.89s/it]\u001b[A\n",
      " 95%|█████████▌| 95/100 [06:08<00:19,  3.90s/it]\u001b[A\n",
      " 96%|█████████▌| 96/100 [06:12<00:15,  3.90s/it]\u001b[A\n",
      " 97%|█████████▋| 97/100 [06:16<00:11,  3.83s/it]\u001b[A\n",
      " 98%|█████████▊| 98/100 [06:20<00:07,  3.83s/it]\u001b[A\n",
      " 99%|█████████▉| 99/100 [06:24<00:03,  3.83s/it]\u001b[A\n",
      "100%|██████████| 100/100 [06:27<00:00,  3.88s/it]\u001b[A\n"
     ]
    }
   ],
   "source": [
    "#################################################################################\n",
    "################################## Simulation ###################################\n",
    "#################################################################################\n",
    "\n",
    "N = 100\n",
    "q = 0.1   \n",
    "phi = 0.001\n",
    "max_n_avg = 6\n",
    "increment = 0.2\n",
    "num_simulations = 100\n",
    "label = 'is_influenced'\n",
    "\n",
    "n_avg = np.arange(1, max_n_avg, increment)\n",
    "p = [avg/(N-1) for avg in n_avg]\n",
    "n = len(p)\n",
    "S_influential, S_normal = np.zeros([num_simulations, n]), np.zeros([num_simulations, n])\n",
    "\n",
    "for i in tqdm(range(num_simulations)):\n",
    "    for j in range(n):\n",
    "        probability = p[j]\n",
    "        G = nx.erdos_renyi_graph(N, probability)\n",
    "        set_influence(G, 0)\n",
    "        ## Retrieve influential nodes - top q% and non-influential nodes\n",
    "        degree_ordered_nodes = sorted(list(G.nodes()), key=lambda x: G.degree(x), reverse=True)\n",
    "        influential_nodes = degree_ordered_nodes[:int(q*N)]\n",
    "        normal_nodes = degree_ordered_nodes[int(q*N):]\n",
    "        ## Simulation\n",
    "        influential = simulate_spread(G, influential_nodes, phi)\n",
    "        normal = simulate_spread(G, normal_nodes, phi)\n",
    "        ## Store results\n",
    "        S_influential[i,j] += np.mean(influential)\n",
    "        S_normal[i,j] += (np.mean(normal))"
   ]
  },
  {
   "cell_type": "code",
   "execution_count": 44,
   "metadata": {},
   "outputs": [],
   "source": [
    "##########################\n",
    "### Processing Results ###\n",
    "##########################\n",
    "names = [\"Influential\", \"Normal\"]\n",
    "\n",
    "# Number of Nodes of Network Influenced\n",
    "N_influential = np.apply_along_axis(np.mean, 0, S_influential)\n",
    "N_normal = np.apply_along_axis(np.mean, 0, S_normal)\n",
    "\n",
    "# Proportion of Network Influenced\n",
    "P_influential = [x/N for x in N_influential]\n",
    "P_normal = [x/N for x in N_normal]"
   ]
  },
  {
   "cell_type": "code",
   "execution_count": 45,
   "metadata": {},
   "outputs": [
    {
     "data": {
      "text/plain": [
       "<matplotlib.legend.Legend at 0xa1899e390>"
      ]
     },
     "execution_count": 45,
     "metadata": {},
     "output_type": "execute_result"
    },
    {
     "data": {
      "image/png": "[encoded data removed]",
      "text/plain": [
       "<Figure size 432x288 with 1 Axes>"
      ]
     },
     "metadata": {
      "needs_background": "light"
     },
     "output_type": "display_data"
    }
   ],
   "source": [
    "############\n",
    "### Pots ###\n",
    "############\n",
    "\n",
    "plt.plot(n_avg, N_influential, \"-s\")\n",
    "plt.plot(n_avg, N_normal, \"-o\")\n",
    "plt.ylabel(\"Average Number Influenced\")\n",
    "plt.xlabel(\"Average Degree\")\n",
    "plt.title(\"Number of Nodes Influenced\")\n",
    "plt.legend(names)"
   ]
  },
  {
   "cell_type": "code",
   "execution_count": 46,
   "metadata": {},
   "outputs": [
    {
     "data": {
      "text/plain": [
       "<matplotlib.legend.Legend at 0xa18a72810>"
      ]
     },
     "execution_count": 46,
     "metadata": {},
     "output_type": "execute_result"
    },
    {
     "data": {
      "image/png": "[encoded data removed]",
      "text/plain": [
       "<Figure size 432x288 with 1 Axes>"
      ]
     },
     "metadata": {
      "needs_background": "light"
     },
     "output_type": "display_data"
    }
   ],
   "source": [
    "plt.plot(n_avg, P_influential, \"-o\")\n",
    "plt.plot(n_avg, P_normal, \"-o\")\n",
    "plt.ylabel(\"Average Number Influenced\")\n",
    "plt.xlabel(\"Average Degree\")\n",
    "plt.title(\"Percentage of Network Influenced\")\n",
    "plt.legend(names)"
   ]
  },
  {
   "cell_type": "code",
   "execution_count": null,
   "metadata": {},
   "outputs": [],
   "source": []
  },
  {
   "cell_type": "code",
   "execution_count": null,
   "metadata": {},
   "outputs": [],
   "source": []
  },
  {
   "cell_type": "code",
   "execution_count": null,
   "metadata": {},
   "outputs": [],
   "source": [
    "fig, axs = plt.subplots(1, 2)\n",
    "axs[0].plot(n_avg, S_influential, \"-o\")\n",
    "axs[0].plot(n_avg, S_normal, \"-o\")\n",
    "axs[0].set_title(\"Number of Nodes Influenced\")\n",
    "axs[0].set_ylabel(\"Average Number Influenced\")\n",
    "axs[0].set_xlabel(\"Average Degree\")\n",
    "axs[0].legend(names)\n",
    "\n",
    "axs[1].plot(n_avg, P_influential, \"-o\")\n",
    "axs[1].plot(n_avg, P_normal, \"-o\")\n",
    "axs[1].set_title(\"Percentage of Network Influenced\")\n",
    "axs[1].set_ylabel(\"Average Number Influenced\")\n",
    "axs[1].set_xlabel(\"Average Degree\")\n",
    "axs[1].legend(names)"
   ]
  },
  {
   "cell_type": "code",
   "execution_count": null,
   "metadata": {},
   "outputs": [],
   "source": []
  }
 ],
 "metadata": {
  "kernelspec": {
   "display_name": "Python 3",
   "language": "python",
   "name": "python3"
  },
  "language_info": {
   "codemirror_mode": {
    "name": "ipython",
    "version": 3
   },
   "file_extension": ".py",
   "mimetype": "text/x-python",
   "name": "python",
   "nbconvert_exporter": "python",
   "pygments_lexer": "ipython3",
   "version": "3.7.7"
  }
 },
 "nbformat": 4,
 "nbformat_minor": 4
}
