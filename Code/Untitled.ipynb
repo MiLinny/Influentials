{
 "cells": [
  {
   "cell_type": "code",
   "execution_count": 1,
   "metadata": {},
   "outputs": [],
   "source": [
    "import networkx as nx\n",
    "import numpy as np\n"
   ]
  },
  {
   "cell_type": "code",
   "execution_count": null,
   "metadata": {},
   "outputs": [],
   "source": [
    "#########################################################################################\n",
    "############################### Network Helper Functions  ###############################\n",
    "#########################################################################################\n",
    "\n",
    "def set_time(G, value, node=None, time='time'):\n",
    "    '''\n",
    "        Set the time of an individual node in a network G \n",
    "        to value or set the time of all nodes to value.\n",
    "        G      ::  a networkx graph\n",
    "        node   ::  a reference to a node in G\n",
    "        value  ::  a non-negative integer\n",
    "    '''\n",
    "    if node:\n",
    "        G.nodes[node][time] = value\n",
    "    else:\n",
    "        N = G.number_of_nodes()\n",
    "        time_attrib = {i : value for i in range(N)}\n",
    "        nx.set_node_attributes(G,time_attrib, time)\n",
    "\n",
    "\n",
    "def set_influence(G, value, node=None, label='is_influenced'):\n",
    "    '''\n",
    "        Set the influence of an individual node in a network G \n",
    "        to value or set the influence of all nodes to value.\n",
    "        G      ::  a networkx graph\n",
    "        node   ::  a reference to a node in G\n",
    "        value  ::  an integer 0 or 1\n",
    "    '''\n",
    "    if node:\n",
    "        G.nodes[node][label] = value\n",
    "    else:\n",
    "        N = G.number_of_nodes()\n",
    "        influence_attrib = { i : value for i in range(N) }\n",
    "        nx.set_node_attributes(G,influence_attrib, label)\n",
    "        \n",
    "def get_is_influenced(G, node, label='is_influenced'):\n",
    "    '''\n",
    "        Returns if node in G is influenced.\n",
    "    '''\n",
    "    return G.nodes[node][label]\n",
    "        \n",
    "def get_number_influenced(G, label='is_influenced'):\n",
    "    '''\n",
    "        Get the number of influenced nodes.\n",
    "    '''\n",
    "    return sum(nx.get_node_attributes(G, label).values())\n",
    "\n",
    "#################################################################################\n",
    "########################## Simulation Helper Functions ##########################\n",
    "#################################################################################\n",
    "\n",
    "def get_uninfluenced_neighbours(G, nodes, label='is_influenced'):\n",
    "    '''\n",
    "        Return a set of neighbours of nodes\n",
    "        that are uninfluenced.\n",
    "    '''\n",
    "    neighbours = set()\n",
    "    for node in nodes:\n",
    "        friends = list(G.neighbors(node))\n",
    "        neighbours.update([friend for friend in friends if G.nodes[friend][label] == 0])\n",
    "        ## implication is no node added is in nodes because nodes should all be influenced \n",
    "    \n",
    "    ## In case the above implication doesn't hold...\n",
    "#     tmp = set(nodes)\n",
    "#     neighbours = neighbours - tmp\n",
    "    return neighbours\n",
    "\n",
    "def update_influence_directed(G, node, phi, time, label='is_influenced'):\n",
    "    '''\n",
    "        Assumes the node isn't currently influenced.\n",
    "        Update a node's influence status.\n",
    "        Returns true or false.\n",
    "    '''\n",
    "    friends = [x for x, _ in G.in_edges(node)]\n",
    "    num_friends = len(friends)\n",
    "\n",
    "    ## Node with no friends cannot be influenced\n",
    "    if num_friends == 0:\n",
    "        return False\n",
    "\n",
    "    ## Calculate the number of friends who can influence \n",
    "    ## current node and compare with threshold.\n",
    "    num_influenced = sum([1 for friend in friends if G.nodes[friend][label] == 1])\n",
    "    if (num_influenced/num_friends) > phi:\n",
    "        set_influence(G, 1, node=node)\n",
    "        set_time(G, time, node=node)\n",
    "        return True\n",
    "    return False\n",
    "    \n",
    "def simulate_spread_directed(G, initial_node, phi):\n",
    "    '''\n",
    "        Simulates the spread of influence from initial node under threshold phi.\n",
    "        Tracks the component of influenced nodes, determines the uninfluenced \n",
    "        neighbours of this component, and determines whether the neighbours \n",
    "        can be influenced. \n",
    "        Returns the number of influenced nodes and expected time to be influenced.\n",
    "    '''\n",
    "    \n",
    "    G_tmp = G.copy()\n",
    "    set_influence(G_tmp, 1, node=initial_node)\n",
    "    N = G_tmp.number_of_nodes()\n",
    "    t = [0 for _ in range(N)]\n",
    "    time, num_influenced = 1, 1\n",
    "    t[0] = 1\n",
    "    influenced_nodes = set([initial_node])\n",
    "    \n",
    "    ## Iteratively compute the number of nodes (update t[time]) influenced at\n",
    "    ## each time step until a time step is reached where no neighbours to\n",
    "    ## the influenced component can be influenced.\n",
    "    while num_influenced > 0:\n",
    "        num_influenced = 0\n",
    "        neighbours = get_uninfluenced_neighbours(G_tmp, influenced_nodes)\n",
    "        for node in neighbours:\n",
    "            if update_influence_directed(G_tmp, node, phi):\n",
    "                num_influenced += 1\n",
    "                influenced_nodes.add(node)\n",
    "        t[time] = num_influenced\n",
    "        time += 1\n",
    "    \n",
    "    ## Determine the empirical expected time to be influenced\n",
    "    expected_time = sum([i * t[i] for i in range(N)])/N\n",
    "    return (len(influenced_nodes), expected_time)\n",
    "\n",
    "\n"
   ]
  },
  {
   "cell_type": "code",
   "execution_count": null,
   "metadata": {},
   "outputs": [],
   "source": [
    "#################################################################################\n",
    "############################# Simulation  Functions #############################\n",
    "#################################################################################\n",
    "\n",
    "def run_simulation_RG(N,p,phi=0.18,q=0.1):\n",
    "    '''\n",
    "        Simulation of Poisson/Binomial Random Graph\n",
    "        Returns the average size of influenced nodes and average expected \n",
    "        time to be influenced from \n",
    "            - influential nodes\n",
    "            - normal nodes\n",
    "    '''\n",
    "    G = nx.erdos_renyi_graph(N,p)\n",
    "    set_influence(G, 0)\n",
    "    set_time(G, 0)\n",
    "    \n",
    "    ## Retrieve influential nodes - top q% and non-influential nodes\n",
    "    degree_ordered_nodes = sorted(list(G.nodes()), key=lambda x: G.degree(x), reverse=True)\n",
    "    influential_nodes = degree_ordered_nodes[:int(q*N)]\n",
    "#     normal_nodes = degree_ordered_nodes[int(q*N):]\n",
    "    \n",
    "    average = p * (N-1)\n",
    "    lower, upper = int(np.floor(average)), int(np.ceil(average))\n",
    "    normal_nodes = [x for x in G.nodes() if lower <= G.degree(x) <= upper ]\n",
    "\n",
    "    influential_S = []\n",
    "    influential_t = []\n",
    "    normal_S = []\n",
    "    normal_t = []\n",
    "    \n",
    "    ## Calculate the number of influenced nodes (S) and expected time of influenced nodes\n",
    "    ## for each influential node\n",
    "    for node in influential_nodes:\n",
    "        S, t = simulate_spread(G, node, phi)\n",
    "        influential_S.append(S)\n",
    "        influential_t.append(t)\n",
    "        \n",
    "    ## Calculate the number of influenced nodes (S) and expected time of influenced nodes\n",
    "    ## for each normal node\n",
    "    for node in normal_nodes:\n",
    "        S, t = simulate_spread(G, node, phi)\n",
    "        normal_S.append(S)\n",
    "        normal_t.append(t)\n",
    "\n",
    "    return [np.mean(influential_S), np.mean(normal_S), np.mean(influential_t), np.mean(normal_t)]\n",
    "\n"
   ]
  },
  {
   "cell_type": "code",
   "execution_count": 3,
   "metadata": {},
   "outputs": [],
   "source": [
    "N, p = 100, 0.1\n",
    "\n",
    "G = nx.erdos_renyi_graph(N,p, directed=True)"
   ]
  },
  {
   "cell_type": "code",
   "execution_count": 4,
   "metadata": {},
   "outputs": [
    {
     "name": "stdout",
     "output_type": "stream",
     "text": [
      "Name: \n",
      "Type: DiGraph\n",
      "Number of nodes: 100\n",
      "Number of edges: 1027\n",
      "Average in degree:  10.2700\n",
      "Average out degree:  10.2700\n"
     ]
    }
   ],
   "source": [
    "print(nx.info(G))"
   ]
  },
  {
   "cell_type": "code",
   "execution_count": null,
   "metadata": {},
   "outputs": [],
   "source": []
  },
  {
   "cell_type": "code",
   "execution_count": 5,
   "metadata": {},
   "outputs": [
    {
     "data": {
      "text/plain": [
       "16"
      ]
     },
     "execution_count": 5,
     "metadata": {},
     "output_type": "execute_result"
    }
   ],
   "source": [
    "G.degree(1)"
   ]
  },
  {
   "cell_type": "code",
   "execution_count": 7,
   "metadata": {},
   "outputs": [
    {
     "data": {
      "text/plain": [
       "[30, 56, 70, 93]"
      ]
     },
     "execution_count": 7,
     "metadata": {},
     "output_type": "execute_result"
    }
   ],
   "source": [
    "list(G.neighbors(1))"
   ]
  },
  {
   "cell_type": "code",
   "execution_count": 8,
   "metadata": {},
   "outputs": [
    {
     "data": {
      "text/plain": [
       "12"
      ]
     },
     "execution_count": 8,
     "metadata": {},
     "output_type": "execute_result"
    }
   ],
   "source": [
    "G.in_degree(1)"
   ]
  },
  {
   "cell_type": "code",
   "execution_count": 13,
   "metadata": {},
   "outputs": [
    {
     "data": {
      "text/plain": [
       "InEdgeDataView([(3, 1), (18, 1), (23, 1), (40, 1), (41, 1), (44, 1), (51, 1), (65, 1), (68, 1), (74, 1), (82, 1), (93, 1)])"
      ]
     },
     "execution_count": 13,
     "metadata": {},
     "output_type": "execute_result"
    }
   ],
   "source": [
    "[x for x,_ in G.in_edges(1)]"
   ]
  },
  {
   "cell_type": "code",
   "execution_count": 14,
   "metadata": {},
   "outputs": [
    {
     "data": {
      "text/plain": [
       "[3, 18, 23, 40, 41, 44, 51, 65, 68, 74, 82, 93]"
      ]
     },
     "execution_count": 14,
     "metadata": {},
     "output_type": "execute_result"
    }
   ],
   "source": [
    "[x for x,_ in G.in_edges(1)]"
   ]
  },
  {
   "cell_type": "code",
   "execution_count": 10,
   "metadata": {},
   "outputs": [
    {
     "data": {
      "text/plain": [
       "OutEdgeDataView([(1, 30), (1, 56), (1, 70), (1, 93)])"
      ]
     },
     "execution_count": 10,
     "metadata": {},
     "output_type": "execute_result"
    }
   ],
   "source": [
    "G.out_edges(1)"
   ]
  },
  {
   "cell_type": "code",
   "execution_count": 12,
   "metadata": {},
   "outputs": [
    {
     "ename": "TypeError",
     "evalue": "'AdjacencyView' object is not callable",
     "output_type": "error",
     "traceback": [
      "\u001b[0;31m---------------------------------------------------------------------------\u001b[0m",
      "\u001b[0;31mTypeError\u001b[0m                                 Traceback (most recent call last)",
      "\u001b[0;32m<ipython-input-12-ef5a5eae16cb>\u001b[0m in \u001b[0;36m<module>\u001b[0;34m\u001b[0m\n\u001b[0;32m----> 1\u001b[0;31m \u001b[0mG\u001b[0m\u001b[0;34m.\u001b[0m\u001b[0madj\u001b[0m\u001b[0;34m(\u001b[0m\u001b[0;36m1\u001b[0m\u001b[0;34m)\u001b[0m\u001b[0;34m\u001b[0m\u001b[0;34m\u001b[0m\u001b[0m\n\u001b[0m",
      "\u001b[0;31mTypeError\u001b[0m: 'AdjacencyView' object is not callable"
     ]
    }
   ],
   "source": [
    "G.adj(1)"
   ]
  },
  {
   "cell_type": "code",
   "execution_count": null,
   "metadata": {},
   "outputs": [],
   "source": []
  }
 ],
 "metadata": {
  "kernelspec": {
   "display_name": "Python 3",
   "language": "python",
   "name": "python3"
  },
  "language_info": {
   "codemirror_mode": {
    "name": "ipython",
    "version": 3
   },
   "file_extension": ".py",
   "mimetype": "text/x-python",
   "name": "python",
   "nbconvert_exporter": "python",
   "pygments_lexer": "ipython3",
   "version": "3.7.7"
  }
 },
 "nbformat": 4,
 "nbformat_minor": 4
}
