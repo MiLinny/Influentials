{
 "cells": [
  {
   "cell_type": "code",
   "execution_count": 7,
   "metadata": {},
   "outputs": [],
   "source": [
    "import networkx as nx\n",
    "import os\n",
    "from SimulationHelper import *\n",
    "from tqdm import tqdm\n",
    "import numpy as np\n",
    "import matplotlib.pyplot as plt \n",
    "%matplotlib inline "
   ]
  },
  {
   "cell_type": "code",
   "execution_count": 5,
   "metadata": {},
   "outputs": [
    {
     "data": {
      "text/html": [
       "<table style=\"border: 2px solid white;\">\n",
       "<tr>\n",
       "<td style=\"vertical-align: top; border: 0px solid white\">\n",
       "<h3 style=\"text-align: left;\">Client</h3>\n",
       "<ul style=\"text-align: left; list-style: none; margin: 0; padding: 0;\">\n",
       "  <li><b>Scheduler: </b>tcp://127.0.0.1:43071</li>\n",
       "  <li><b>Dashboard: </b><a href='http://127.0.0.1:39467/status' target='_blank'>http://127.0.0.1:39467/status</a>\n",
       "</ul>\n",
       "</td>\n",
       "<td style=\"vertical-align: top; border: 0px solid white\">\n",
       "<h3 style=\"text-align: left;\">Cluster</h3>\n",
       "<ul style=\"text-align: left; list-style:none; margin: 0; padding: 0;\">\n",
       "  <li><b>Workers: </b>2</li>\n",
       "  <li><b>Cores: </b>16</li>\n",
       "  <li><b>Memory: </b>33.60 GB</li>\n",
       "</ul>\n",
       "</td>\n",
       "</tr>\n",
       "</table>"
      ],
      "text/plain": [
       "<Client: 'tcp://127.0.0.1:43071' processes=2 threads=16, memory=33.60 GB>"
      ]
     },
     "execution_count": 5,
     "metadata": {},
     "output_type": "execute_result"
    }
   ],
   "source": [
    "## Multiprocessing Package - Speed up simulation\n",
    "from multiprocessing import cpu_count\n",
    "from dask.distributed import Client, progress\n",
    "import dask\n",
    "client = Client(threads_per_worker=8)\n",
    "client"
   ]
  },
  {
   "cell_type": "code",
   "execution_count": 8,
   "metadata": {},
   "outputs": [],
   "source": [
    "# Parameters\n",
    "phis = np.arange(0.05, 0.31, 0.05)\n",
    "qs = np.arange(0.05, 0.26, 0.05)\n",
    "phi_fixed = 0.18\n",
    "q_fixed = 0.1\n",
    "names = [\"Influential\", \"Normal\"]"
   ]
  },
  {
   "cell_type": "markdown",
   "metadata": {},
   "source": [
    "## Facebook\n",
    "\n",
    "Influentials analysis for Facebook data."
   ]
  },
  {
   "cell_type": "code",
   "execution_count": 4,
   "metadata": {},
   "outputs": [
    {
     "name": "stdout",
     "output_type": "stream",
     "text": [
      "Name: \n",
      "Type: Graph\n",
      "Number of nodes: 4039\n",
      "Number of edges: 88234\n",
      "Average degree:  43.6910\n"
     ]
    }
   ],
   "source": [
    "facebook = nx.read_edgelist(\"Data/facebook.txt\")\n",
    "print(nx.info(facebook))"
   ]
  },
  {
   "cell_type": "code",
   "execution_count": 5,
   "metadata": {},
   "outputs": [
    {
     "name": "stderr",
     "output_type": "stream",
     "text": [
      "100%|██████████| 6/6 [00:00<00:00, 2600.85it/s]\n"
     ]
    },
    {
     "name": "stdout",
     "output_type": "stream",
     "text": [
      "CPU times: user 17.8 s, sys: 2.14 s, total: 19.9 s\n",
      "Wall time: 4min 16s\n"
     ]
    }
   ],
   "source": [
    "%%time\n",
    "pool = []\n",
    "for phi in tqdm(phis):\n",
    "    pool.append(dask.delayed(run_simulation)(facebook, phi=phi, q=q_fixed, directed=False))\n",
    "\n",
    "results_facebook_phi = dask.compute(pool)"
   ]
  },
  {
   "cell_type": "code",
   "execution_count": 6,
   "metadata": {},
   "outputs": [
    {
     "name": "stderr",
     "output_type": "stream",
     "text": [
      "100%|██████████| 6/6 [00:00<00:00, 1715.46it/s]\n"
     ]
    },
    {
     "name": "stdout",
     "output_type": "stream",
     "text": [
      "CPU times: user 17.6 s, sys: 2.23 s, total: 19.9 s\n",
      "Wall time: 4min 20s\n"
     ]
    }
   ],
   "source": [
    "%%time\n",
    "pool = []\n",
    "for phi in tqdm(phis):\n",
    "    pool.append(dask.delayed(run_simulation)(facebook, phi=phi, q=q_fixed, directed=False))\n",
    "\n",
    "results_facebook_q = dask.compute(pool)"
   ]
  },
  {
   "cell_type": "markdown",
   "metadata": {},
   "source": [
    "## Analysis\n",
    "\n"
   ]
  },
  {
   "cell_type": "code",
   "execution_count": null,
   "metadata": {},
   "outputs": [],
   "source": [
    "## Preload Data\n",
    "#file_dir = \"./Results\"\n",
    "# fb_fn_phi = \"facebook_phi.npy\"\n",
    "# fb_fn_q = \"facebook_q.npy\"\n",
    "# fb_phi = np.load(os.path.join(file_dir, fb_fn_phi))\n",
    "# fb_q = np.load(os.path.join(file_dir, fb_fn_q))"
   ]
  },
  {
   "cell_type": "code",
   "execution_count": 11,
   "metadata": {},
   "outputs": [],
   "source": [
    "fb_phi = np.array(results_facebook_phi[0])\n",
    "fb_q = np.array(results_facebook_q[0])"
   ]
  },
  {
   "cell_type": "code",
   "execution_count": 11,
   "metadata": {},
   "outputs": [
    {
     "data": {
      "text/plain": [
       "<matplotlib.legend.Legend at 0x7fd8c15e33d0>"
      ]
     },
     "execution_count": 11,
     "metadata": {},
     "output_type": "execute_result"
    },
    {
     "data": {
      "image/png": "[encoded data removed]",
      "text/plain": [
       "<Figure size 432x288 with 1 Axes>"
      ]
     },
     "metadata": {
      "needs_background": "light"
     },
     "output_type": "display_data"
    }
   ],
   "source": [
    "plt.plot(phis, fb_phi[:,0], \"-o\")\n",
    "plt.plot(phis, fb_phi[:,1], \"-o\")\n",
    "plt.ylabel(\"Average Number Influenced\")\n",
    "plt.xlabel(\"Threshold Value (phi)\")\n",
    "plt.title(\"Number of Nodes Influenced against Threshold Value\")\n",
    "plt.legend(names)"
   ]
  },
  {
   "cell_type": "code",
   "execution_count": 12,
   "metadata": {},
   "outputs": [
    {
     "data": {
      "text/plain": [
       "<matplotlib.legend.Legend at 0x7fd8c0078150>"
      ]
     },
     "execution_count": 12,
     "metadata": {},
     "output_type": "execute_result"
    },
    {
     "data": {
      "image/png": "[encoded data removed]",
      "text/plain": [
       "<Figure size 432x288 with 1 Axes>"
      ]
     },
     "metadata": {
      "needs_background": "light"
     },
     "output_type": "display_data"
    }
   ],
   "source": [
    "plt.plot(phis, fb_phi[:,2], \"-o\")\n",
    "plt.plot(phis, fb_phi[:,3], \"-o\")\n",
    "plt.ylabel(\"Average Time of Influenced\")\n",
    "plt.xlabel(\"Threshold Value (phi)\")\n",
    "plt.title(\"Comparison of Average Influenced Time against Threshold Value\")\n",
    "plt.legend(names)"
   ]
  },
  {
   "cell_type": "code",
   "execution_count": 13,
   "metadata": {},
   "outputs": [
    {
     "data": {
      "text/plain": [
       "<matplotlib.legend.Legend at 0x7fd8c0063550>"
      ]
     },
     "execution_count": 13,
     "metadata": {},
     "output_type": "execute_result"
    },
    {
     "data": {
      "image/png": "[encoded data removed]",
      "text/plain": [
       "<Figure size 432x288 with 1 Axes>"
      ]
     },
     "metadata": {
      "needs_background": "light"
     },
     "output_type": "display_data"
    }
   ],
   "source": [
    "plt.plot(phis, fb_q[:,0], \"-o\")\n",
    "plt.plot(phis, fb_q[:,1], \"-o\")\n",
    "plt.ylabel(\"Average Number Influenced\")\n",
    "plt.xlabel(\"Threshold of Influentials (q)\")\n",
    "plt.title(\"Number of Nodes Influenced aginst Influentials Threshold\")\n",
    "plt.legend(names)"
   ]
  },
  {
   "cell_type": "code",
   "execution_count": 14,
   "metadata": {},
   "outputs": [
    {
     "data": {
      "text/plain": [
       "<matplotlib.legend.Legend at 0x7fd8c0d25fd0>"
      ]
     },
     "execution_count": 14,
     "metadata": {},
     "output_type": "execute_result"
    },
    {
     "data": {
      "image/png": "[encoded data removed]",
      "text/plain": [
       "<Figure size 432x288 with 1 Axes>"
      ]
     },
     "metadata": {
      "needs_background": "light"
     },
     "output_type": "display_data"
    }
   ],
   "source": [
    "plt.plot(phis, fb_q[:,2], \"-o\")\n",
    "plt.plot(phis, fb_q[:,3], \"-o\")\n",
    "plt.ylabel(\"Average Time of Influenced\")\n",
    "plt.xlabel(\"Threshold of Influentials (q)\")\n",
    "plt.title(\"Comparison of Average Influenced Time against Influentials Threshold\")\n",
    "plt.legend(names)"
   ]
  },
  {
   "cell_type": "code",
   "execution_count": 20,
   "metadata": {},
   "outputs": [],
   "source": [
    "file_dir = \"./Results\"\n",
    "fb_fn_phi = \"facebook_phi.npy\"\n",
    "fb_fn_q = \"facebook_q.npy\"\n",
    "\n",
    "if not os.path.exists(file_dir):\n",
    "    os.makedirs(file_dir)\n",
    "np.save(os.path.join(file_dir, fb_fn_phi), fb_phi)\n",
    "np.save(os.path.join(file_dir, fb_fn_q), fb_q)"
   ]
  },
  {
   "cell_type": "markdown",
   "metadata": {},
   "source": [
    "## Twitter\n",
    "Influentials analysis for Twitter data."
   ]
  },
  {
   "cell_type": "code",
   "execution_count": 15,
   "metadata": {},
   "outputs": [
    {
     "name": "stdout",
     "output_type": "stream",
     "text": [
      "Name: \n",
      "Type: DiGraph\n",
      "Number of nodes: 81306\n",
      "Number of edges: 1768149\n",
      "Average in degree:  21.7468\n",
      "Average out degree:  21.7468\n"
     ]
    }
   ],
   "source": [
    "twitter = nx.read_edgelist(\"Data/twitter.txt\",create_using=nx.DiGraph())\n",
    "print(nx.info(twitter))"
   ]
  },
  {
   "cell_type": "code",
   "execution_count": null,
   "metadata": {},
   "outputs": [
    {
     "name": "stderr",
     "output_type": "stream",
     "text": [
      "100%|██████████| 6/6 [00:00<00:00, 1734.38it/s]\n"
     ]
    }
   ],
   "source": [
    "%%time\n",
    "pool = []\n",
    "for phi in tqdm(phis):\n",
    "    pool.append(dask.delayed(run_simulation)(twitter, phi=phi, q=q_fixed, directed=False))\n",
    "\n",
    "results_twitter_phi = dask.compute(pool)"
   ]
  },
  {
   "cell_type": "code",
   "execution_count": null,
   "metadata": {},
   "outputs": [
    {
     "name": "stderr",
     "output_type": "stream",
     "text": [
      "100%|██████████| 6/6 [00:00<00:00, 1531.14it/s]\n",
      "distributed.nanny - WARNING - Restarting worker\n",
      "distributed.nanny - WARNING - Restarting worker\n",
      "distributed.nanny - WARNING - Restarting worker\n",
      "distributed.nanny - WARNING - Restarting worker\n",
      "distributed.nanny - WARNING - Restarting worker\n",
      "distributed.nanny - WARNING - Restarting worker\n",
      "distributed.nanny - WARNING - Restarting worker\n",
      "distributed.nanny - WARNING - Restarting worker\n"
     ]
    }
   ],
   "source": [
    "%%time\n",
    "pool = []\n",
    "for phi in tqdm(phis):\n",
    "    pool.append(dask.delayed(run_simulation)(twitter, phi=phi, q=q_fixed, directed=False))\n",
    "\n",
    "results_twitter_q = dask.compute(pool)"
   ]
  },
  {
   "cell_type": "markdown",
   "metadata": {},
   "source": [
    "## Analysis"
   ]
  },
  {
   "cell_type": "code",
   "execution_count": null,
   "metadata": {},
   "outputs": [],
   "source": [
    "tw_phi = np.array(results_twitter_phi[0])\n",
    "tw_q = np.array(results_twitter_q[0])"
   ]
  },
  {
   "cell_type": "code",
   "execution_count": null,
   "metadata": {},
   "outputs": [],
   "source": [
    "plt.plot(phis, tw_phi[:,0], \"-o\")\n",
    "plt.plot(phis, tw_phi[:,1], \"-o\")\n",
    "plt.ylabel(\"Average Number Influenced\")\n",
    "plt.xlabel(\"Threshold Value (phi)\")\n",
    "plt.title(\"Number of Nodes Influenced against Threshold Value\")\n",
    "plt.legend(names)"
   ]
  },
  {
   "cell_type": "code",
   "execution_count": null,
   "metadata": {},
   "outputs": [],
   "source": [
    "plt.plot(phis, tw_phi[:,2], \"-o\")\n",
    "plt.plot(phis, tw_phi[:,3], \"-o\")\n",
    "plt.ylabel(\"Average Time of Influenced\")\n",
    "plt.xlabel(\"Threshold Value (phi)\")\n",
    "plt.title(\"Comparison of Average Influenced Time against Threshold Value\")\n",
    "plt.legend(names)"
   ]
  },
  {
   "cell_type": "code",
   "execution_count": null,
   "metadata": {},
   "outputs": [],
   "source": [
    "plt.plot(phis, tw_q[:,0], \"-o\")\n",
    "plt.plot(phis, tw_q[:,1], \"-o\")\n",
    "plt.ylabel(\"Average Number Influenced\")\n",
    "plt.xlabel(\"Threshold of Influentials (q)\")\n",
    "plt.title(\"Number of Nodes Influenced aginst Influentials Threshold\")\n",
    "plt.legend(names)"
   ]
  },
  {
   "cell_type": "code",
   "execution_count": null,
   "metadata": {},
   "outputs": [],
   "source": [
    "plt.plot(phis, tw_q[:,2], \"-o\")\n",
    "plt.plot(phis, tw_q[:,3], \"-o\")\n",
    "plt.ylabel(\"Average Time of Influenced\")\n",
    "plt.xlabel(\"Threshold of Influentials (q)\")\n",
    "plt.title(\"Comparison of Average Influenced Time against Influentials Threshold\")\n",
    "plt.legend(names)"
   ]
  },
  {
   "cell_type": "code",
   "execution_count": null,
   "metadata": {},
   "outputs": [],
   "source": [
    "file_dir = \"./Results\"\n",
    "tw_fn_phi = \"twitter_phi.npy\"\n",
    "tw_fn_q = \"twitter_q.npy\"\n",
    "\n",
    "if not os.path.exists(file_dir):\n",
    "    os.makedirs(file_dir)\n",
    "np.save(os.path.join(file_dir, tw_fn_phi), tw_phi)\n",
    "np.save(os.path.join(file_dir, tw_fn_q), tw_q)"
   ]
  }
 ],
 "metadata": {
  "kernelspec": {
   "display_name": "Python 3",
   "language": "python",
   "name": "python3"
  },
  "language_info": {
   "codemirror_mode": {
    "name": "ipython",
    "version": 3
   },
   "file_extension": ".py",
   "mimetype": "text/x-python",
   "name": "python",
   "nbconvert_exporter": "python",
   "pygments_lexer": "ipython3",
   "version": "3.7.6"
  }
 },
 "nbformat": 4,
 "nbformat_minor": 4
}
