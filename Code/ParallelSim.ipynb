{
 "cells": [
  {
   "cell_type": "code",
   "execution_count": 1,
   "metadata": {},
   "outputs": [],
   "source": [
    "import networkx as nx\n",
    "from tqdm import tqdm\n",
    "import numpy as np\n",
    "import matplotlib.pyplot as plt \n",
    "%matplotlib inline "
   ]
  },
  {
   "cell_type": "code",
   "execution_count": 2,
   "metadata": {},
   "outputs": [],
   "source": [
    "import multiprocessing\n",
    "from multiprocessing import cpu_count"
   ]
  },
  {
   "cell_type": "code",
   "execution_count": 3,
   "metadata": {},
   "outputs": [],
   "source": [
    "#################################################################################\n",
    "############################### Helper Functions  ###############################\n",
    "#################################################################################\n",
    "\n",
    "def set_influence(G, value, node=None):\n",
    "    '''\n",
    "        Set influence of a node in a network G or\n",
    "        set influence of all nodes to value.\n",
    "        G      ::  a networkx graph\n",
    "        node   ::  a reference to a node in G\n",
    "        value  ::  an integer 0 or 1\n",
    "    '''\n",
    "    if node:\n",
    "        G.nodes[node][label] = value\n",
    "    else:\n",
    "        influence_attrib = { i : 0 for i in range(N) }\n",
    "        nx.set_node_attributes(G,influence_attrib, label)\n",
    "        \n",
    "def get_is_influenced(G, node):\n",
    "    return G.nodes[node][label]\n",
    "        \n",
    "def get_number_influenced(G):\n",
    "    '''\n",
    "        Get the number of influenced nodes.\n",
    "    '''\n",
    "    return sum(nx.get_node_attributes(G, label).values())\n",
    "\n",
    "def check_can_influence(G, node, q):\n",
    "    '''\n",
    "        Determines whether a node is influenced by\n",
    "        its neighbours. (Threshold Check)\n",
    "    '''\n",
    "    if get_is_influenced(G, node) == 1:\n",
    "        return False\n",
    "    \n",
    "    friends = list(G.neighbors(node))\n",
    "    num_friends = len(friends)\n",
    "    \n",
    "    if num_friends == 0:\n",
    "        return False\n",
    "    \n",
    "    num_influenced = sum([1 for friend in friends if G.nodes[friend][label] == 1])\n",
    "    \n",
    "    if num_influenced/num_friends > q:\n",
    "        return True\n",
    "    return False"
   ]
  },
  {
   "cell_type": "code",
   "execution_count": 4,
   "metadata": {},
   "outputs": [],
   "source": [
    "#################################################################################\n",
    "########################## Simulation Helper Functions ##########################\n",
    "#################################################################################\n",
    "\n",
    "def spread_influence(G, current_node, phi):\n",
    "    '''\n",
    "        Recursive function to spread influence \n",
    "        from current_node in G.\n",
    "    '''\n",
    "    \n",
    "    ## Not interesting\n",
    "    if get_is_influenced(G, current_node) == 0 and not check_can_influence(G, current_node, phi):\n",
    "        return\n",
    "    else:\n",
    "        set_influence(G, 1, current_node)\n",
    "        ## Find uninfluenced friends\n",
    "        friends = list(G.neighbors(current_node))\n",
    "        targets = [friend for friend in friends if G.nodes[friend][label] == 0]\n",
    "        \n",
    "        for friend in targets:\n",
    "            spread_influence(G, friend, phi)\n",
    "        \n",
    "def get_vulnerable(G, phi):\n",
    "    '''\n",
    "        Check for vulnerable nodes.\n",
    "        Return list of vulnerable nodes.\n",
    "    '''\n",
    "    vulnerable = []\n",
    "    for node in G.nodes():\n",
    "        if check_can_influence(G, node, phi):\n",
    "            vulnerable.append(node)\n",
    "    return vulnerable\n",
    "        \n",
    "def simulate_spread(G, nodes, phi):\n",
    "    '''\n",
    "        Simulates the spread of influence starting from each \n",
    "        node in nodes and returns a list containing the \n",
    "        number of influenced from starting at each node.\n",
    "    '''\n",
    "    S = []\n",
    "    for node in nodes:\n",
    "        G_tmp = G.copy()\n",
    "        set_influence(G_tmp, 1, node)\n",
    "        spread_influence(G_tmp, node, phi)\n",
    "        \n",
    "        vulnerable = get_vulnerable(G_tmp, phi)\n",
    "\n",
    "        while len(vulnerable) != 0:\n",
    "            for vul in vulnerable:\n",
    "                spread_influence(G_tmp, vul, phi)\n",
    "            vulnerable = get_vulnerable(G_tmp, phi)\n",
    "\n",
    "        S.append(get_number_influenced(G_tmp))\n",
    "        \n",
    "    return S\n"
   ]
  },
  {
   "cell_type": "code",
   "execution_count": 5,
   "metadata": {},
   "outputs": [
    {
     "name": "stderr",
     "output_type": "stream",
     "text": [
      "100%|██████████| 50/50 [00:18<00:00,  2.67it/s]"
     ]
    },
    {
     "name": "stdout",
     "output_type": "stream",
     "text": [
      "CPU times: user 16.2 s, sys: 197 ms, total: 16.4 s\n",
      "Wall time: 18.7 s\n"
     ]
    },
    {
     "name": "stderr",
     "output_type": "stream",
     "text": [
      "\n"
     ]
    }
   ],
   "source": [
    "%%time\n",
    "#################################################################################\n",
    "################################## Simulation ###################################\n",
    "#################################################################################\n",
    "\n",
    "N = 25\n",
    "q = 0.1   \n",
    "phi = 0.18\n",
    "max_n_avg = 6\n",
    "increment = 0.2\n",
    "num_simulations = 50\n",
    "label = 'is_influenced'\n",
    "\n",
    "n_avg = np.arange(1, max_n_avg, increment)\n",
    "p = [avg/(N-1) for avg in n_avg]\n",
    "n = len(p)\n",
    "S_influential, S_normal = np.zeros([num_simulations, n]), np.zeros([num_simulations, n])\n",
    "\n",
    "for i in tqdm(range(num_simulations)):\n",
    "    for j in range(n):\n",
    "        probability = p[j]\n",
    "        G = nx.erdos_renyi_graph(N, probability)\n",
    "        set_influence(G, 0)\n",
    "        ## Retrieve influential nodes - top q% and non-influential nodes\n",
    "        degree_ordered_nodes = sorted(list(G.nodes()), key=lambda x: G.degree(x), reverse=True)\n",
    "        influential_nodes = degree_ordered_nodes[:int(q*N)]\n",
    "        normal_nodes = degree_ordered_nodes[int(q*N):]\n",
    "        ## Simulation\n",
    "        influential = simulate_spread(G, influential_nodes, phi)\n",
    "        normal = simulate_spread(G, normal_nodes, phi)\n",
    "        ## Store results\n",
    "        S_influential[i,j] += np.mean(influential)\n",
    "        S_normal[i,j] += (np.mean(normal))"
   ]
  },
  {
   "cell_type": "code",
   "execution_count": 7,
   "metadata": {},
   "outputs": [
    {
     "name": "stderr",
     "output_type": "stream",
     "text": [
      "100%|██████████| 50/50 [00:18<00:00,  2.72it/s]"
     ]
    },
    {
     "name": "stdout",
     "output_type": "stream",
     "text": [
      "CPU times: user 16.5 s, sys: 307 ms, total: 16.8 s\n",
      "Wall time: 18.4 s\n"
     ]
    },
    {
     "name": "stderr",
     "output_type": "stream",
     "text": [
      "\n"
     ]
    }
   ],
   "source": [
    "%%time\n",
    "#################################################################################\n",
    "################################## Simulation ###################################\n",
    "#################################################################################\n",
    "\n",
    "N = 25\n",
    "q = 0.1   \n",
    "phi = 0.18\n",
    "max_n_avg = 6\n",
    "increment = 0.2\n",
    "num_simulations = 50\n",
    "label = 'is_influenced'\n",
    "\n",
    "n_avg = np.arange(1, max_n_avg, increment)\n",
    "p = [avg/(N-1) for avg in n_avg]\n",
    "n = len(p)\n",
    "S_influential, S_normal = np.zeros([num_simulations, n]), np.zeros([num_simulations, n])\n",
    "\n",
    "for i in tqdm(range(num_simulations)):\n",
    "    for j in range(n):\n",
    "        probability = p[j]\n",
    "        G = nx.erdos_renyi_graph(N, probability)\n",
    "        set_influence(G, 0)\n",
    "        ## Retrieve influential nodes - top q% and non-influential nodes\n",
    "        degree_ordered_nodes = sorted(list(G.nodes()), key=lambda x: G.degree(x), reverse=True)\n",
    "        influential_nodes = degree_ordered_nodes[:int(q*N)]\n",
    "        normal_nodes = degree_ordered_nodes[int(q*N):]\n",
    "        ## Simulation\n",
    "        influential = simulate_spread(G, influential_nodes, phi)\n",
    "        normal = simulate_spread(G, normal_nodes, phi)\n",
    "        ## Store results\n",
    "        S_influential[i,j] += np.mean(influential)\n",
    "        S_normal[i,j] += (np.mean(normal))"
   ]
  },
  {
   "cell_type": "code",
   "execution_count": 45,
   "metadata": {},
   "outputs": [],
   "source": [
    "def RG_iteration(N, probability):\n",
    "    G = nx.erdos_renyi_graph(N, probability)\n",
    "    set_influence(G, 0)\n",
    "    ## Retrieve influential nodes - top q% and non-influential nodes\n",
    "    degree_ordered_nodes = sorted(list(G.nodes()), key=lambda x: G.degree(x), reverse=True)\n",
    "    influential_nodes = degree_ordered_nodes[:int(q*N)]\n",
    "    normal_nodes = degree_ordered_nodes[int(q*N):]\n",
    "    ## Simulation\n",
    "    influential = delayed(simulate_spread)(G, influential_nodes, phi)\n",
    "    normal = simulate_spread(G, normal_nodes, phi)\n",
    "    ## Store results\n",
    "    S_influential = np.mean(influential)\n",
    "    S_normal = np.mean(normal)\n",
    "    \n",
    "    y = (S_influential, S_normal)\n",
    "    return y"
   ]
  },
  {
   "cell_type": "code",
   "execution_count": 46,
   "metadata": {},
   "outputs": [
    {
     "name": "stdout",
     "output_type": "stream",
     "text": [
      "CPU times: user 1.5 ms, sys: 166 µs, total: 1.66 ms\n",
      "Wall time: 1.81 ms\n"
     ]
    }
   ],
   "source": [
    "%%time\n",
    "#################################################################################\n",
    "################################## Simulation ###################################\n",
    "#################################################################################\n",
    "\n",
    "N = 25\n",
    "q = 0.1   \n",
    "phi = 0.18\n",
    "max_n_avg = 6\n",
    "increment = 0.2\n",
    "num_simulations = 50\n",
    "label = 'is_influenced'\n",
    "\n",
    "n_avg = np.arange(1, max_n_avg, increment)\n",
    "p = [avg/(N-1) for avg in n_avg]\n",
    "n = len(p)\n",
    "S = np.zeros([n], dtype=object)\n",
    "\n",
    "for j in range(n):\n",
    "    probability = p[j]\n",
    "    results = delayed(RG_iteration)(N, probability)\n",
    "    ## Store results\n",
    "    S[j] = results\n"
   ]
  },
  {
   "cell_type": "code",
   "execution_count": 7,
   "metadata": {},
   "outputs": [],
   "source": [
    "import dask.array as da"
   ]
  },
  {
   "cell_type": "code",
   "execution_count": 48,
   "metadata": {},
   "outputs": [],
   "source": [
    "v= dask.compute(S.tolist())"
   ]
  },
  {
   "cell_type": "code",
   "execution_count": 23,
   "metadata": {},
   "outputs": [
    {
     "data": {
      "text/plain": [
       "((Delayed('mean-68a22ed5-3754-4069-814b-68c85c9b44fb'), 1.7391304347826086),)"
      ]
     },
     "execution_count": 23,
     "metadata": {},
     "output_type": "execute_result"
    }
   ],
   "source": [
    "da.compute(S[0])"
   ]
  },
  {
   "cell_type": "code",
   "execution_count": 50,
   "metadata": {},
   "outputs": [
    {
     "data": {
      "text/plain": [
       "(Delayed('mean-0c6387c6-41d0-44b0-a6a0-2c49f94bd6d9'), 2.0869565217391304)"
      ]
     },
     "execution_count": 50,
     "metadata": {},
     "output_type": "execute_result"
    }
   ],
   "source": [
    "v[0][0]"
   ]
  },
  {
   "cell_type": "code",
   "execution_count": null,
   "metadata": {},
   "outputs": [],
   "source": [
    "##########################\n",
    "### Processing Results ###\n",
    "##########################\n",
    "names = [\"Influential\", \"Normal\"]\n",
    "\n",
    "# Number of Nodes of Network Influenced\n",
    "N_influential = np.apply_along_axis(np.mean, 0, S_influential)\n",
    "N_normal = np.apply_along_axis(np.mean, 0, S_normal)\n",
    "\n",
    "# Proportion of Network Influenced\n",
    "P_influential = [x/N for x in N_influential]\n",
    "P_normal = [x/N for x in N_normal]"
   ]
  },
  {
   "cell_type": "code",
   "execution_count": null,
   "metadata": {},
   "outputs": [],
   "source": [
    "############\n",
    "### Pots ###\n",
    "############\n",
    "\n",
    "plt.plot(n_avg, N_influential, \"-s\")\n",
    "plt.plot(n_avg, N_normal, \"-o\")\n",
    "plt.ylabel(\"Average Number Influenced\")\n",
    "plt.xlabel(\"Average Degree\")\n",
    "plt.title(\"Number of Nodes Influenced\")\n",
    "plt.legend(names)"
   ]
  },
  {
   "cell_type": "code",
   "execution_count": null,
   "metadata": {},
   "outputs": [],
   "source": [
    "plt.plot(n_avg[:16], P_influential[:16], \"-o\")\n",
    "plt.plot(n_avg[:16], P_normal[:16], \"-o\")\n",
    "plt.ylabel(\"Average Number Influenced\")\n",
    "plt.xlabel(\"Average Degree\")\n",
    "plt.title(\"Percentage of Network Influenced\")\n",
    "plt.legend(names)"
   ]
  },
  {
   "cell_type": "code",
   "execution_count": null,
   "metadata": {},
   "outputs": [],
   "source": []
  },
  {
   "cell_type": "code",
   "execution_count": null,
   "metadata": {},
   "outputs": [],
   "source": []
  },
  {
   "cell_type": "code",
   "execution_count": null,
   "metadata": {},
   "outputs": [],
   "source": [
    "fig, axs = plt.subplots(1, 2)\n",
    "axs[0].plot(n_avg, S_influential, \"-o\")\n",
    "axs[0].plot(n_avg, S_normal, \"-o\")\n",
    "axs[0].set_title(\"Number of Nodes Influenced\")\n",
    "axs[0].set_ylabel(\"Average Number Influenced\")\n",
    "axs[0].set_xlabel(\"Average Degree\")\n",
    "axs[0].legend(names)\n",
    "\n",
    "axs[1].plot(n_avg, P_influential, \"-o\")\n",
    "axs[1].plot(n_avg, P_normal, \"-o\")\n",
    "axs[1].set_title(\"Percentage of Network Influenced\")\n",
    "axs[1].set_ylabel(\"Average Number Influenced\")\n",
    "axs[1].set_xlabel(\"Average Degree\")\n",
    "axs[1].legend(names)"
   ]
  },
  {
   "cell_type": "code",
   "execution_count": 3,
   "metadata": {},
   "outputs": [
    {
     "data": {
      "text/plain": [
       "4"
      ]
     },
     "execution_count": 3,
     "metadata": {},
     "output_type": "execute_result"
    }
   ],
   "source": [
    "cpu_count()"
   ]
  },
  {
   "cell_type": "code",
   "execution_count": null,
   "metadata": {},
   "outputs": [],
   "source": []
  }
 ],
 "metadata": {
  "kernelspec": {
   "display_name": "Python 3",
   "language": "python",
   "name": "python3"
  },
  "language_info": {
   "codemirror_mode": {
    "name": "ipython",
    "version": 3
   },
   "file_extension": ".py",
   "mimetype": "text/x-python",
   "name": "python",
   "nbconvert_exporter": "python",
   "pygments_lexer": "ipython3",
   "version": "3.7.7"
  }
 },
 "nbformat": 4,
 "nbformat_minor": 4
}
