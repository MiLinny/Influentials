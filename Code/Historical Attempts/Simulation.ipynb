{
 "cells": [
  {
   "cell_type": "code",
   "execution_count": 2,
   "metadata": {},
   "outputs": [],
   "source": [
    "import networkx as nx\n",
    "from tqdm import tqdm\n",
    "import numpy as np\n",
    "import pandas as pd\n",
    "import matplotlib.pyplot as plt \n",
    "%matplotlib inline "
   ]
  },
  {
   "cell_type": "code",
   "execution_count": 3,
   "metadata": {},
   "outputs": [],
   "source": [
    "## tqdm overflow issues\n",
    "\n",
    "# from tqdm.notebook import tqdm\n",
    "\n",
    "# #usual installation \n",
    "# pip install ipywidgets \n",
    "# jupyter nbextension enable --py widgetsnbextension\n",
    "# #you are my saver!\n",
    "# jupyter labextension install @jupyter-widgets/jupyterlab-manager"
   ]
  },
  {
   "cell_type": "code",
   "execution_count": 4,
   "metadata": {},
   "outputs": [],
   "source": [
    "#################################################################################\n",
    "############################### Helper Functions  ###############################\n",
    "#################################################################################\n",
    "\n",
    "def set_influence(G, value, node=None):\n",
    "    '''\n",
    "        Set influence of a node in a network G or\n",
    "        set influence of all nodes to value.\n",
    "        G      ::  a networkx graph\n",
    "        node   ::  a reference to a node in G\n",
    "        value  ::  an integer 0 or 1\n",
    "    '''\n",
    "    if node:\n",
    "        G.nodes[node][label] = value\n",
    "    else:\n",
    "        influence_attrib = { i : value for i in range(N) }\n",
    "        nx.set_node_attributes(G,influence_attrib, label)\n",
    "        \n",
    "def get_is_influenced(G, node):\n",
    "    return G.nodes[node][label]\n",
    "        \n",
    "def get_number_influenced(G):\n",
    "    '''\n",
    "        Get the number of influenced nodes.\n",
    "    '''\n",
    "    return sum(nx.get_node_attributes(G, label).values())\n",
    "\n",
    "def check_can_influence(G, node, q):\n",
    "    '''\n",
    "        Determines whether a node is influenced by\n",
    "        its neighbours. (Threshold Check)\n",
    "    '''\n",
    "    if get_is_influenced(G, node) == 1:\n",
    "        return False\n",
    "    \n",
    "    friends = list(G.neighbors(node))\n",
    "    num_friends = len(friends)\n",
    "    \n",
    "    if num_friends == 0:\n",
    "        return False\n",
    "    \n",
    "    num_influenced = sum([1 for friend in friends if G.nodes[friend][label] == 1])\n",
    "    \n",
    "    if num_influenced/num_friends > q:\n",
    "        return True\n",
    "    return False"
   ]
  },
  {
   "cell_type": "code",
   "execution_count": 5,
   "metadata": {},
   "outputs": [],
   "source": [
    "#################################################################################\n",
    "########################## Simulation Helper Functions ##########################\n",
    "#################################################################################\n",
    "\n",
    "def spread_influence(G, current_node, phi):\n",
    "    '''\n",
    "        Recursive function to spread influence \n",
    "        from current_node in G.\n",
    "    '''\n",
    "    \n",
    "    ## Not interesting\n",
    "    if get_is_influenced(G, current_node) == 0 and not check_can_influence(G, current_node, phi):\n",
    "        return\n",
    "    else:\n",
    "        set_influence(G, 1, current_node)\n",
    "        ## Find uninfluenced friends\n",
    "        friends = list(G.neighbors(current_node))\n",
    "        targets = [friend for friend in friends if G.nodes[friend][label] == 0]\n",
    "        \n",
    "        for friend in targets:\n",
    "            spread_influence(G, friend, phi)\n",
    "        \n",
    "def get_vulnerable(G, phi):\n",
    "    '''\n",
    "        Check for vulnerable nodes.\n",
    "        Return list of vulnerable nodes.\n",
    "    '''\n",
    "    vulnerable = []\n",
    "    for node in G.nodes():\n",
    "        if check_can_influence(G, node, phi):\n",
    "            vulnerable.append(node)\n",
    "    return vulnerable\n",
    "        \n",
    "def simulate_spread(G, nodes, phi):\n",
    "    '''\n",
    "        Simulates the spread of influence starting from each \n",
    "        node in nodes and returns a list containing the \n",
    "        number of influenced from starting at each node.\n",
    "    '''\n",
    "    S = []\n",
    "    for node in nodes:\n",
    "        G_tmp = G.copy()\n",
    "        set_influence(G_tmp, 1, node)\n",
    "        spread_influence(G_tmp, node, phi)\n",
    "        \n",
    "        vulnerable = get_vulnerable(G_tmp, phi)\n",
    "\n",
    "        while len(vulnerable) != 0:\n",
    "            for vul in vulnerable:\n",
    "                spread_influence(G_tmp, vul, phi)\n",
    "            vulnerable = get_vulnerable(G_tmp, phi)\n",
    "\n",
    "        S.append(get_number_influenced(G_tmp))\n",
    "        \n",
    "    return S\n"
   ]
  },
  {
   "cell_type": "code",
   "execution_count": 6,
   "metadata": {},
   "outputs": [],
   "source": [
    "#################################################################################\n",
    "######################## Simulation Setup and Parameters ########################\n",
    "#################################################################################\n",
    "\n",
    "label = 'is_influenced'\n",
    "## Top q% of influence (degree) distribution are classified as influential\n",
    "q = 0.1   \n",
    "## Threshold \n",
    "phi = 0.18"
   ]
  },
  {
   "cell_type": "code",
   "execution_count": null,
   "metadata": {},
   "outputs": [],
   "source": [
    "'''\n",
    "    Test Run\n",
    "'''\n",
    "## Random Graph and Parameters\n",
    "N = 100\n",
    "p = 0.0015\n",
    "G = nx.erdos_renyi_graph(N, p, seed=2020)\n",
    "\n",
    "G_tmp = G.copy()\n",
    "## Setup influence attribute\n",
    "set_influence(G, 0)\n",
    "## Retrieve influential nodes - top q% and non-influential nodes\n",
    "degree_ordered_nodes = sorted(list(G.nodes()), key=lambda x: G.degree(x), reverse=True)\n",
    "influential_nodes = degree_ordered_nodes[:int(q*N)]\n",
    "normie_nodes = degree_ordered_nodes[int(q*N):]\n",
    "## Compute Results\n",
    "S_influenced = simulate_spread(G, influential_nodes, phi)\n",
    "S_normie = simulate_spread(G, normie_nodes, phi)"
   ]
  },
  {
   "cell_type": "code",
   "execution_count": 33,
   "metadata": {},
   "outputs": [
    {
     "name": "stderr",
     "output_type": "stream",
     "text": [
      "100%|██████████| 15/15 [01:49<00:00,  7.33s/it]"
     ]
    },
    {
     "name": "stdout",
     "output_type": "stream",
     "text": [
      "CPU times: user 1min 22s, sys: 559 ms, total: 1min 23s\n",
      "Wall time: 1min 49s\n"
     ]
    },
    {
     "name": "stderr",
     "output_type": "stream",
     "text": [
      "\n"
     ]
    }
   ],
   "source": [
    "%%time\n",
    "#################################################################################\n",
    "################################## Simulation ###################################\n",
    "#################################################################################\n",
    "\n",
    "N = 100\n",
    "q = 0.1   \n",
    "phi = 0.18\n",
    "max_n_avg = 7\n",
    "increment = 0.2\n",
    "num_simulations = 15\n",
    "label = 'is_influenced'\n",
    "directed = False\n",
    "\n",
    "n_avg = np.arange(1, max_n_avg, increment)\n",
    "p = [avg/(N-1) for avg in n_avg]\n",
    "n = len(p)\n",
    "S_influential, S_normal = np.zeros([num_simulations, n]), np.zeros([num_simulations, n])\n",
    "\n",
    "for i in tqdm(range(num_simulations)):\n",
    "    for j in range(n):\n",
    "        probability = p[j]\n",
    "        G = nx.erdos_renyi_graph(N, probability)\n",
    "        set_influence(G, 0)\n",
    "        ## Retrieve influential nodes - top q% and non-influential nodes\n",
    "        degree_ordered_nodes = sorted(list(G.nodes()), key=lambda x: G.degree(x), reverse=True)\n",
    "        influential_nodes = degree_ordered_nodes[:int(q*N)]\n",
    "        normal_nodes = degree_ordered_nodes[int(q*N):]\n",
    "        ## Simulation\n",
    "        influential = simulate_spread(G, influential_nodes, phi)\n",
    "        normal = simulate_spread(G, normal_nodes, phi)\n",
    "        ## Store results\n",
    "        S_influential[i,j] += np.mean(influential)\n",
    "        S_normal[i,j] += (np.mean(normal))"
   ]
  },
  {
   "cell_type": "code",
   "execution_count": 34,
   "metadata": {},
   "outputs": [],
   "source": [
    "##########################\n",
    "### Processing Results ###\n",
    "##########################\n",
    "names = [\"Influential\", \"Normal\"]\n",
    "\n",
    "# Number of Nodes of Network Influenced\n",
    "N_influential = np.apply_along_axis(np.mean, 0, S_influential)\n",
    "N_normal = np.apply_along_axis(np.mean, 0, S_normal)\n",
    "\n",
    "# Proportion of Network Influenced\n",
    "P_influential = [x/N for x in N_influential]\n",
    "P_normal = [x/N for x in N_normal]"
   ]
  },
  {
   "cell_type": "code",
   "execution_count": 35,
   "metadata": {},
   "outputs": [
    {
     "data": {
      "text/plain": [
       "(15, 30)"
      ]
     },
     "execution_count": 35,
     "metadata": {},
     "output_type": "execute_result"
    }
   ],
   "source": [
    "S_normal.shape"
   ]
  },
  {
   "cell_type": "code",
   "execution_count": 36,
   "metadata": {},
   "outputs": [
    {
     "data": {
      "text/plain": [
       "<matplotlib.legend.Legend at 0x1238211d0>"
      ]
     },
     "execution_count": 36,
     "metadata": {},
     "output_type": "execute_result"
    },
    {
     "data": {
      "image/png": "[encoded data removed]",
      "text/plain": [
       "<Figure size 432x288 with 1 Axes>"
      ]
     },
     "metadata": {
      "needs_background": "light"
     },
     "output_type": "display_data"
    }
   ],
   "source": [
    "############\n",
    "### Pots ###\n",
    "############\n",
    "\n",
    "plt.plot(n_avg, N_influential, \"-s\")\n",
    "plt.plot(n_avg, N_normal, \"-o\")\n",
    "plt.ylabel(\"Average Number Influenced\")\n",
    "plt.xlabel(\"Average Degree\")\n",
    "plt.title(\"Number of Nodes Influenced\")\n",
    "plt.legend(names)"
   ]
  },
  {
   "cell_type": "code",
   "execution_count": 37,
   "metadata": {},
   "outputs": [
    {
     "data": {
      "text/plain": [
       "<matplotlib.legend.Legend at 0x123913110>"
      ]
     },
     "execution_count": 37,
     "metadata": {},
     "output_type": "execute_result"
    },
    {
     "data": {
      "image/png": "[encoded data removed]",
      "text/plain": [
       "<Figure size 432x288 with 1 Axes>"
      ]
     },
     "metadata": {
      "needs_background": "light"
     },
     "output_type": "display_data"
    }
   ],
   "source": [
    "plt.plot(n_avg, P_influential, \"-o\")\n",
    "plt.plot(n_avg, P_normal, \"-o\")\n",
    "plt.ylabel(\"Average Number Influenced\")\n",
    "plt.xlabel(\"Average Degree\")\n",
    "plt.title(\"Percentage of Network Influenced\")\n",
    "plt.legend(names)"
   ]
  },
  {
   "cell_type": "code",
   "execution_count": null,
   "metadata": {},
   "outputs": [],
   "source": [
    "%store "
   ]
  },
  {
   "cell_type": "code",
   "execution_count": 39,
   "metadata": {},
   "outputs": [],
   "source": [
    "backup = pd.HDFStore('Results/N1000q10phi8avg6sim75.h5')\n",
    "\n",
    "backup['n_avg'] = pd.Series(n_avg)\n",
    "\n",
    "backup['S_Normal'] = pd.DataFrame(S_normal)\n",
    "backup['S_Influential'] = pd.DataFrame(S_influential)\n",
    "\n",
    "backup['P_Normal'] = pd.Series(P_normal)\n",
    "backup['P_influential'] = pd.Series(P_influential)\n",
    "\n",
    "backup['N_Normal'] = pd.Series(N_normal)\n",
    "backup['N_Influential'] = pd.Series(N_influential)\n",
    "\n",
    "backup.close()"
   ]
  },
  {
   "cell_type": "code",
   "execution_count": 49,
   "metadata": {},
   "outputs": [
    {
     "ename": "ValueError",
     "evalue": "The file 'Results/N1000q10phi8avg6sim75.h5' is already opened, but in read-only mode.  Please close it before reopening in append mode.",
     "output_type": "error",
     "traceback": [
      "\u001b[0;31m---------------------------------------------------------------------------\u001b[0m",
      "\u001b[0;31mValueError\u001b[0m                                Traceback (most recent call last)",
      "\u001b[0;32m<ipython-input-49-60ae9aed784e>\u001b[0m in \u001b[0;36m<module>\u001b[0;34m\u001b[0m\n\u001b[0;32m----> 1\u001b[0;31m \u001b[0;32mwith\u001b[0m \u001b[0mpd\u001b[0m\u001b[0;34m.\u001b[0m\u001b[0mHDFStore\u001b[0m\u001b[0;34m(\u001b[0m\u001b[0;34m'Results/N1000q10phi8avg6sim75.h5'\u001b[0m\u001b[0;34m)\u001b[0m \u001b[0;32mas\u001b[0m \u001b[0mhdf\u001b[0m\u001b[0;34m:\u001b[0m\u001b[0;34m\u001b[0m\u001b[0;34m\u001b[0m\u001b[0m\n\u001b[0m\u001b[1;32m      2\u001b[0m     \u001b[0;31m# This prints a list of all group names:\u001b[0m\u001b[0;34m\u001b[0m\u001b[0;34m\u001b[0m\u001b[0;34m\u001b[0m\u001b[0m\n\u001b[1;32m      3\u001b[0m     \u001b[0mprint\u001b[0m\u001b[0;34m(\u001b[0m\u001b[0mhdf\u001b[0m\u001b[0;34m.\u001b[0m\u001b[0mkeys\u001b[0m\u001b[0;34m(\u001b[0m\u001b[0;34m)\u001b[0m\u001b[0;34m)\u001b[0m\u001b[0;34m\u001b[0m\u001b[0;34m\u001b[0m\u001b[0m\n\u001b[1;32m      4\u001b[0m     \u001b[0mprint\u001b[0m\u001b[0;34m(\u001b[0m\u001b[0mhdf\u001b[0m\u001b[0;34m)\u001b[0m\u001b[0;34m\u001b[0m\u001b[0;34m\u001b[0m\u001b[0m\n\u001b[1;32m      5\u001b[0m \u001b[0;34m\u001b[0m\u001b[0m\n",
      "\u001b[0;32m~/anaconda3/lib/python3.7/site-packages/pandas/io/pytables.py\u001b[0m in \u001b[0;36m__init__\u001b[0;34m(self, path, mode, complevel, complib, fletcher32, **kwargs)\u001b[0m\n\u001b[1;32m    535\u001b[0m         \u001b[0mself\u001b[0m\u001b[0;34m.\u001b[0m\u001b[0m_fletcher32\u001b[0m \u001b[0;34m=\u001b[0m \u001b[0mfletcher32\u001b[0m\u001b[0;34m\u001b[0m\u001b[0;34m\u001b[0m\u001b[0m\n\u001b[1;32m    536\u001b[0m         \u001b[0mself\u001b[0m\u001b[0;34m.\u001b[0m\u001b[0m_filters\u001b[0m \u001b[0;34m=\u001b[0m \u001b[0;32mNone\u001b[0m\u001b[0;34m\u001b[0m\u001b[0;34m\u001b[0m\u001b[0m\n\u001b[0;32m--> 537\u001b[0;31m         \u001b[0mself\u001b[0m\u001b[0;34m.\u001b[0m\u001b[0mopen\u001b[0m\u001b[0;34m(\u001b[0m\u001b[0mmode\u001b[0m\u001b[0;34m=\u001b[0m\u001b[0mmode\u001b[0m\u001b[0;34m,\u001b[0m \u001b[0;34m**\u001b[0m\u001b[0mkwargs\u001b[0m\u001b[0;34m)\u001b[0m\u001b[0;34m\u001b[0m\u001b[0;34m\u001b[0m\u001b[0m\n\u001b[0m\u001b[1;32m    538\u001b[0m \u001b[0;34m\u001b[0m\u001b[0m\n\u001b[1;32m    539\u001b[0m     \u001b[0;32mdef\u001b[0m \u001b[0m__fspath__\u001b[0m\u001b[0;34m(\u001b[0m\u001b[0mself\u001b[0m\u001b[0;34m)\u001b[0m\u001b[0;34m:\u001b[0m\u001b[0;34m\u001b[0m\u001b[0;34m\u001b[0m\u001b[0m\n",
      "\u001b[0;32m~/anaconda3/lib/python3.7/site-packages/pandas/io/pytables.py\u001b[0m in \u001b[0;36mopen\u001b[0;34m(self, mode, **kwargs)\u001b[0m\n\u001b[1;32m    678\u001b[0m                 )\n\u001b[1;32m    679\u001b[0m \u001b[0;34m\u001b[0m\u001b[0m\n\u001b[0;32m--> 680\u001b[0;31m             \u001b[0;32mraise\u001b[0m \u001b[0merr\u001b[0m\u001b[0;34m\u001b[0m\u001b[0;34m\u001b[0m\u001b[0m\n\u001b[0m\u001b[1;32m    681\u001b[0m \u001b[0;34m\u001b[0m\u001b[0m\n\u001b[1;32m    682\u001b[0m         \u001b[0;32mexcept\u001b[0m \u001b[0mException\u001b[0m \u001b[0;32mas\u001b[0m \u001b[0merr\u001b[0m\u001b[0;34m:\u001b[0m\u001b[0;34m\u001b[0m\u001b[0;34m\u001b[0m\u001b[0m\n",
      "\u001b[0;32m~/anaconda3/lib/python3.7/site-packages/pandas/io/pytables.py\u001b[0m in \u001b[0;36mopen\u001b[0;34m(self, mode, **kwargs)\u001b[0m\n\u001b[1;32m    653\u001b[0m \u001b[0;34m\u001b[0m\u001b[0m\n\u001b[1;32m    654\u001b[0m         \u001b[0;32mtry\u001b[0m\u001b[0;34m:\u001b[0m\u001b[0;34m\u001b[0m\u001b[0;34m\u001b[0m\u001b[0m\n\u001b[0;32m--> 655\u001b[0;31m             \u001b[0mself\u001b[0m\u001b[0;34m.\u001b[0m\u001b[0m_handle\u001b[0m \u001b[0;34m=\u001b[0m \u001b[0mtables\u001b[0m\u001b[0;34m.\u001b[0m\u001b[0mopen_file\u001b[0m\u001b[0;34m(\u001b[0m\u001b[0mself\u001b[0m\u001b[0;34m.\u001b[0m\u001b[0m_path\u001b[0m\u001b[0;34m,\u001b[0m \u001b[0mself\u001b[0m\u001b[0;34m.\u001b[0m\u001b[0m_mode\u001b[0m\u001b[0;34m,\u001b[0m \u001b[0;34m**\u001b[0m\u001b[0mkwargs\u001b[0m\u001b[0;34m)\u001b[0m\u001b[0;34m\u001b[0m\u001b[0;34m\u001b[0m\u001b[0m\n\u001b[0m\u001b[1;32m    656\u001b[0m         \u001b[0;32mexcept\u001b[0m \u001b[0mIOError\u001b[0m \u001b[0;32mas\u001b[0m \u001b[0merr\u001b[0m\u001b[0;34m:\u001b[0m  \u001b[0;31m# pragma: no cover\u001b[0m\u001b[0;34m\u001b[0m\u001b[0;34m\u001b[0m\u001b[0m\n\u001b[1;32m    657\u001b[0m             \u001b[0;32mif\u001b[0m \u001b[0;34m\"can not be written\"\u001b[0m \u001b[0;32min\u001b[0m \u001b[0mstr\u001b[0m\u001b[0;34m(\u001b[0m\u001b[0merr\u001b[0m\u001b[0;34m)\u001b[0m\u001b[0;34m:\u001b[0m\u001b[0;34m\u001b[0m\u001b[0;34m\u001b[0m\u001b[0m\n",
      "\u001b[0;32m~/anaconda3/lib/python3.7/site-packages/tables/file.py\u001b[0m in \u001b[0;36mopen_file\u001b[0;34m(filename, mode, title, root_uep, filters, **kwargs)\u001b[0m\n\u001b[1;32m    310\u001b[0m                     \u001b[0;34m\"The file '%s' is already opened, but \"\u001b[0m\u001b[0;34m\u001b[0m\u001b[0;34m\u001b[0m\u001b[0m\n\u001b[1;32m    311\u001b[0m                     \u001b[0;34m\"in read-only mode.  Please close it before \"\u001b[0m\u001b[0;34m\u001b[0m\u001b[0;34m\u001b[0m\u001b[0m\n\u001b[0;32m--> 312\u001b[0;31m                     \"reopening in append mode.\" % filename)\n\u001b[0m\u001b[1;32m    313\u001b[0m             \u001b[0;31m# 'w' means that we want to destroy existing contents\u001b[0m\u001b[0;34m\u001b[0m\u001b[0;34m\u001b[0m\u001b[0;34m\u001b[0m\u001b[0m\n\u001b[1;32m    314\u001b[0m             \u001b[0;32melif\u001b[0m \u001b[0mmode\u001b[0m \u001b[0;34m==\u001b[0m \u001b[0;34m'w'\u001b[0m\u001b[0;34m:\u001b[0m\u001b[0;34m\u001b[0m\u001b[0;34m\u001b[0m\u001b[0m\n",
      "\u001b[0;31mValueError\u001b[0m: The file 'Results/N1000q10phi8avg6sim75.h5' is already opened, but in read-only mode.  Please close it before reopening in append mode."
     ]
    }
   ],
   "source": [
    "with pd.HDFStore('Results/N1000q10phi8avg6sim75.h5') as hdf:\n",
    "    # This prints a list of all group names:\n",
    "    print(hdf.keys())    "
   ]
  },
  {
   "cell_type": "code",
   "execution_count": 17,
   "metadata": {},
   "outputs": [
    {
     "ename": "NameError",
     "evalue": "name 'S_Normal' is not defined",
     "output_type": "error",
     "traceback": [
      "\u001b[0;31m---------------------------------------------------------------------------\u001b[0m",
      "\u001b[0;31mNameError\u001b[0m                                 Traceback (most recent call last)",
      "\u001b[0;32m<ipython-input-17-916bd6bb7b34>\u001b[0m in \u001b[0;36m<module>\u001b[0;34m\u001b[0m\n\u001b[0;32m----> 1\u001b[0;31m \u001b[0mS_Normal\u001b[0m\u001b[0;34m\u001b[0m\u001b[0;34m\u001b[0m\u001b[0m\n\u001b[0m",
      "\u001b[0;31mNameError\u001b[0m: name 'S_Normal' is not defined"
     ]
    }
   ],
   "source": []
  },
  {
   "cell_type": "code",
   "execution_count": null,
   "metadata": {},
   "outputs": [],
   "source": []
  },
  {
   "cell_type": "code",
   "execution_count": null,
   "metadata": {},
   "outputs": [],
   "source": [
    "fig, axs = plt.subplots(1, 2)\n",
    "axs[0].plot(n_avg, S_influential, \"-o\")\n",
    "axs[0].plot(n_avg, S_normal, \"-o\")\n",
    "axs[0].set_title(\"Number of Nodes Influenced\")\n",
    "axs[0].set_ylabel(\"Average Number Influenced\")\n",
    "axs[0].set_xlabel(\"Average Degree\")\n",
    "axs[0].legend(names)\n",
    "\n",
    "axs[1].plot(n_avg, P_influential, \"-o\")\n",
    "axs[1].plot(n_avg, P_normal, \"-o\")\n",
    "axs[1].set_title(\"Percentage of Network Influenced\")\n",
    "axs[1].set_ylabel(\"Average Number Influenced\")\n",
    "axs[1].set_xlabel(\"Average Degree\")\n",
    "axs[1].legend(names)"
   ]
  },
  {
   "cell_type": "code",
   "execution_count": 28,
   "metadata": {},
   "outputs": [
    {
     "data": {
      "text/plain": [
       "(75, 25)"
      ]
     },
     "execution_count": 28,
     "metadata": {},
     "output_type": "execute_result"
    }
   ],
   "source": [
    "S_normal.shape"
   ]
  },
  {
   "cell_type": "code",
   "execution_count": 30,
   "metadata": {},
   "outputs": [
    {
     "data": {
      "text/plain": [
       "0     0.012630\n",
       "1     0.053984\n",
       "2     0.095459\n",
       "3     0.131487\n",
       "4     0.127503\n",
       "5     0.139607\n",
       "6     0.096163\n",
       "7     0.112189\n",
       "8     0.079288\n",
       "9     0.052102\n",
       "10    0.042629\n",
       "11    0.021621\n",
       "12    0.066355\n",
       "13    0.033997\n",
       "14    0.033666\n",
       "15    0.034080\n",
       "16    0.022985\n",
       "17    0.011732\n",
       "18    0.000537\n",
       "19    0.000712\n",
       "20    0.001008\n",
       "21    0.007691\n",
       "22    0.001997\n",
       "23    0.005490\n",
       "24    0.003319\n",
       "dtype: float64"
      ]
     },
     "execution_count": 30,
     "metadata": {},
     "output_type": "execute_result"
    }
   ],
   "source": []
  },
  {
   "cell_type": "code",
   "execution_count": 21,
   "metadata": {},
   "outputs": [
    {
     "data": {
      "text/plain": [
       "(2, 15)"
      ]
     },
     "execution_count": 21,
     "metadata": {},
     "output_type": "execute_result"
    }
   ],
   "source": [
    "S_influential.shape"
   ]
  },
  {
   "cell_type": "code",
   "execution_count": null,
   "metadata": {},
   "outputs": [],
   "source": []
  }
 ],
 "metadata": {
  "kernelspec": {
   "display_name": "Python 3",
   "language": "python",
   "name": "python3"
  },
  "language_info": {
   "codemirror_mode": {
    "name": "ipython",
    "version": 3
   },
   "file_extension": ".py",
   "mimetype": "text/x-python",
   "name": "python",
   "nbconvert_exporter": "python",
   "pygments_lexer": "ipython3",
   "version": "3.7.6"
  }
 },
 "nbformat": 4,
 "nbformat_minor": 4
}
