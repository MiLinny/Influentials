{
 "cells": [
  {
   "cell_type": "code",
   "execution_count": 1,
   "metadata": {},
   "outputs": [],
   "source": [
    "import plotly.express as px\n",
    "import plotly.graph_objects as go\n",
    "import re"
   ]
  },
  {
   "cell_type": "code",
   "execution_count": 2,
   "metadata": {},
   "outputs": [],
   "source": [
    "import pandas as pd\n",
    "import numpy as np\n",
    "import jupyterlab_dash\n",
    "import dash\n",
    "import dash_html_components as html\n",
    "import dash_core_components as dcc"
   ]
  },
  {
   "cell_type": "code",
   "execution_count": 3,
   "metadata": {},
   "outputs": [],
   "source": [
    "real_data = pd.read_csv('Results/Real_Data.csv')\n",
    "RGD = pd.read_csv('Results/RGD.csv')\n",
    "RGU = pd.read_csv('Results/RGU.csv')\n",
    "SF = pd.read_csv('Results/SF.csv')"
   ]
  },
  {
   "cell_type": "code",
   "execution_count": 4,
   "metadata": {},
   "outputs": [],
   "source": [
    "phis = ['5', '10', '18', '20', '25', '50']\n",
    "ylabs_map = {'S': 'Number of Nodes Influenced',\n",
    "            'N': 'Proportion of Network Influenced',\n",
    "            'P': 'Proportion of Network Influenced',\n",
    "            'T': 'Average Time of Influenced'}"
   ]
  },
  {
   "cell_type": "code",
   "execution_count": 5,
   "metadata": {},
   "outputs": [],
   "source": [
    "def get_graph(df, cols, y_lab):\n",
    "    x = df.iloc[:,0]\n",
    "    fig = go.Figure()\n",
    "\n",
    "    for col in cols:\n",
    "        lab = col.split('_')[1]\n",
    "        fig.add_trace(go.Scatter(x=x, y=df[col], name=lab))\n",
    "        \n",
    "    fig.update_layout(xaxis_title='Average Degree',\n",
    "                     yaxis_title=y_lab)\n",
    "    return fig\n",
    "\n",
    "def get_cols(df, phi, version='S'):\n",
    "    return [x for x in df.columns if x.endswith(version+'_'+phi)]\n",
    "\n",
    "def get_graph_real(df, name='facebook', version='S'):\n",
    "    x = df.iloc[:,0]\n",
    "    y = df['{}_{}'.format(name, version)]\n",
    "    \n",
    "    fig = go.Figure()\n",
    "    fig.add_trace(go.Scatter(x=x, y=y))\n",
    "    fig.update_layout(xaxis_title='Threshold Value',\n",
    "                     yaxis_title=ylabs_map[version],\n",
    "                     title_text=name)\n",
    "    return fig"
   ]
  },
  {
   "cell_type": "code",
   "execution_count": 7,
   "metadata": {},
   "outputs": [],
   "source": [
    "import plotly.io as pio"
   ]
  },
  {
   "cell_type": "code",
   "execution_count": 31,
   "metadata": {},
   "outputs": [],
   "source": [
    "def generate_html(df, df_name, phis, y_lab):\n",
    "    for phi in phis:\n",
    "        fig = get_graph(RGU, get_cols(RGU, phi, version=y_lab), ylabs_map[y_lab])\n",
    "        filepath = './Results_HTML/{}_{}_{}.html'.format(df_name, phi, y_lab)\n",
    "        pio.write_html(fig, file=filepath, auto_open=False)\n",
    "\n",
    "def generate_html_real(df, dataset_name, y_lab):\n",
    "    fig = get_graph_real(df, dataset_name, y_lab)\n",
    "    filepath = './Results_HTML/{}_{}.html'.format(dataset_name, y_lab)\n",
    "    pio.write_html(fig, file=filepath, auto_open=False)"
   ]
  },
  {
   "cell_type": "code",
   "execution_count": 16,
   "metadata": {},
   "outputs": [],
   "source": [
    "generate_html(RGU, 'RGU', phis, 'S')\n",
    "generate_html(RGU, 'RGU', phis, 'T')\n",
    "generate_html(RGU, 'RGU', phis, 'N')"
   ]
  },
  {
   "cell_type": "code",
   "execution_count": 17,
   "metadata": {},
   "outputs": [],
   "source": [
    "generate_html(RGU, 'RGD', phis, 'S')\n",
    "generate_html(RGU, 'RGD', phis, 'T')\n",
    "generate_html(RGU, 'RGD', phis, 'N')"
   ]
  },
  {
   "cell_type": "code",
   "execution_count": 18,
   "metadata": {},
   "outputs": [],
   "source": [
    "generate_html(RGU, 'SF', phis, 'S')\n",
    "generate_html(RGU, 'SF', phis, 'T')\n",
    "generate_html(RGU, 'SF', phis, 'N')"
   ]
  },
  {
   "cell_type": "code",
   "execution_count": 32,
   "metadata": {},
   "outputs": [],
   "source": [
    "generate_html_real(real_data, 'facebook', 'S')\n",
    "generate_html_real(real_data, 'facebook', 'T')\n",
    "generate_html_real(real_data, 'facebook', 'P')"
   ]
  },
  {
   "cell_type": "code",
   "execution_count": 34,
   "metadata": {},
   "outputs": [],
   "source": [
    "generate_html_real(real_data, 'advogato', 'S')\n",
    "generate_html_real(real_data, 'advogato', 'T')\n",
    "generate_html_real(real_data, 'advogato', 'P')"
   ]
  },
  {
   "cell_type": "code",
   "execution_count": null,
   "metadata": {},
   "outputs": [],
   "source": []
  }
 ],
 "metadata": {
  "kernelspec": {
   "display_name": "Python 3",
   "language": "python",
   "name": "python3"
  },
  "language_info": {
   "codemirror_mode": {
    "name": "ipython",
    "version": 3
   },
   "file_extension": ".py",
   "mimetype": "text/x-python",
   "name": "python",
   "nbconvert_exporter": "python",
   "pygments_lexer": "ipython3",
   "version": "3.7.7"
  }
 },
 "nbformat": 4,
 "nbformat_minor": 4
}
