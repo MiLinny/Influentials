{
 "cells": [
  {
   "cell_type": "code",
   "execution_count": 1,
   "metadata": {},
   "outputs": [],
   "source": [
    "import networkx as nx\n",
    "from tqdm import tqdm\n",
    "import numpy as np\n",
    "import pandas as pd\n",
    "import matplotlib.pyplot as plt "
   ]
  },
  {
   "cell_type": "code",
   "execution_count": 2,
   "metadata": {},
   "outputs": [
    {
     "data": {
      "text/html": [
       "<table style=\"border: 2px solid white;\">\n",
       "<tr>\n",
       "<td style=\"vertical-align: top; border: 0px solid white\">\n",
       "<h3 style=\"text-align: left;\">Client</h3>\n",
       "<ul style=\"text-align: left; list-style: none; margin: 0; padding: 0;\">\n",
       "  <li><b>Scheduler: </b>tcp://127.0.0.1:58846</li>\n",
       "  <li><b>Dashboard: </b><a href='http://127.0.0.1:8787/status' target='_blank'>http://127.0.0.1:8787/status</a>\n",
       "</ul>\n",
       "</td>\n",
       "<td style=\"vertical-align: top; border: 0px solid white\">\n",
       "<h3 style=\"text-align: left;\">Cluster</h3>\n",
       "<ul style=\"text-align: left; list-style:none; margin: 0; padding: 0;\">\n",
       "  <li><b>Workers: </b>4</li>\n",
       "  <li><b>Cores: </b>4</li>\n",
       "  <li><b>Memory: </b>8.59 GB</li>\n",
       "</ul>\n",
       "</td>\n",
       "</tr>\n",
       "</table>"
      ],
      "text/plain": [
       "<Client: 'tcp://127.0.0.1:58846' processes=4 threads=4, memory=8.59 GB>"
      ]
     },
     "execution_count": 2,
     "metadata": {},
     "output_type": "execute_result"
    }
   ],
   "source": [
    "from dask.distributed import Client, progress\n",
    "import dask\n",
    "client = Client()\n",
    "client"
   ]
  },
  {
   "cell_type": "code",
   "execution_count": 3,
   "metadata": {},
   "outputs": [],
   "source": [
    "#################################################################################\n",
    "############################### Helper Functions  ###############################\n",
    "#################################################################################\n",
    "\n",
    "def set_influence(G, value, node=None):\n",
    "    '''\n",
    "        Set influence of a node in a network G or\n",
    "        set influence of all nodes to value.\n",
    "        G      ::  a networkx graph\n",
    "        node   ::  a reference to a node in G\n",
    "        value  ::  an integer 0 or 1\n",
    "    '''\n",
    "    if node:\n",
    "        G.nodes[node][label] = value\n",
    "    else:\n",
    "        influence_attrib = { i : value for i in range(N) }\n",
    "        nx.set_node_attributes(G,influence_attrib, label)\n",
    "        \n",
    "def get_is_influenced(G, node):\n",
    "    return G.nodes[node][label]\n",
    "        \n",
    "def get_number_influenced(G):\n",
    "    '''\n",
    "        Get the number of influenced nodes.\n",
    "    '''\n",
    "    return sum(nx.get_node_attributes(G, label).values())\n",
    "\n",
    "def check_can_influence(G, node, q):\n",
    "    '''\n",
    "        Determines whether a node is influenced by\n",
    "        its neighbours. (Threshold Check)\n",
    "    '''\n",
    "    if get_is_influenced(G, node) == 1:\n",
    "        return False\n",
    "    \n",
    "    friends = list(G.neighbors(node))\n",
    "    num_friends = len(friends)\n",
    "    \n",
    "    if num_friends == 0:\n",
    "        return False\n",
    "    \n",
    "    num_influenced = sum([1 for friend in friends if G.nodes[friend][label] == 1])\n",
    "    \n",
    "    if num_influenced/num_friends > q:\n",
    "        return True\n",
    "    return False\n",
    "\n",
    "#################################################################################\n",
    "########################## Simulation Helper Functions ##########################\n",
    "#################################################################################\n",
    "\n",
    "def spread_influence(G, current_node, phi):\n",
    "    '''\n",
    "        Recursive function to spread influence \n",
    "        from current_node in G.\n",
    "    '''\n",
    "    \n",
    "    ## Not interesting\n",
    "    if get_is_influenced(G, current_node) == 0 and not check_can_influence(G, current_node, phi):\n",
    "        return\n",
    "    else:\n",
    "        set_influence(G, 1, current_node)\n",
    "        ## Find uninfluenced friends\n",
    "        friends = list(G.neighbors(current_node))\n",
    "        targets = [friend for friend in friends if G.nodes[friend][label] == 0]\n",
    "        \n",
    "        for friend in targets:\n",
    "            spread_influence(G, friend, phi)\n",
    "        \n",
    "def get_vulnerable(G, phi):\n",
    "    '''\n",
    "        Check for vulnerable nodes.\n",
    "        Return list of vulnerable nodes.\n",
    "    '''\n",
    "    vulnerable = []\n",
    "    for node in G.nodes():\n",
    "        if check_can_influence(G, node, phi):\n",
    "            vulnerable.append(node)\n",
    "    return vulnerable\n",
    "        \n",
    "def simulate_spread(G, nodes, phi):\n",
    "    '''\n",
    "        Simulates the spread of influence starting from each \n",
    "        node in nodes and returns a list containing the \n",
    "        number of influenced from starting at each node.\n",
    "    '''\n",
    "    S = []\n",
    "    for node in nodes:\n",
    "        G_tmp = G.copy()\n",
    "        set_influence(G_tmp, 1, node)\n",
    "        spread_influence(G_tmp, node, phi)\n",
    "        \n",
    "        vulnerable = get_vulnerable(G_tmp, phi)\n",
    "\n",
    "        while len(vulnerable) != 0:\n",
    "            for vul in vulnerable:\n",
    "                spread_influence(G_tmp, vul, phi)\n",
    "            vulnerable = get_vulnerable(G_tmp, phi)\n",
    "\n",
    "        S.append(get_number_influenced(G_tmp))\n",
    "        \n",
    "    return S"
   ]
  },
  {
   "cell_type": "code",
   "execution_count": 4,
   "metadata": {},
   "outputs": [],
   "source": [
    "def run_simulation(probability):\n",
    "    G = nx.erdos_renyi_graph(N, probability)\n",
    "    set_influence(G, 0)\n",
    "    ## Retrieve influential nodes - top q% and non-influential nodes\n",
    "    degree_ordered_nodes = sorted(list(G.nodes()), key=lambda x: G.degree(x), reverse=True)\n",
    "    influential_nodes = degree_ordered_nodes[:int(q*N)]\n",
    "    normal_nodes = degree_ordered_nodes[int(q*N):]\n",
    "    ## Simulation\n",
    "    influential = simulate_spread(G, influential_nodes, phi)\n",
    "    normal = simulate_spread(G, normal_nodes, phi)\n",
    "    ## Store results\n",
    "    S_influential = np.mean(influential)\n",
    "    S_normal = (np.mean(normal))\n",
    "    \n",
    "    return [S_influential, S_normal]"
   ]
  },
  {
   "cell_type": "code",
   "execution_count": 5,
   "metadata": {},
   "outputs": [],
   "source": [
    "## Parameters\n",
    "\n",
    "N = 250\n",
    "q = 0.1   \n",
    "phi = 0.18\n",
    "max_n_avg = 4\n",
    "increment = 0.2\n",
    "num_simulations = 5\n",
    "label = 'is_influenced'\n",
    "\n",
    "n_avg = np.arange(1, max_n_avg, increment)\n",
    "p = [avg/(N-1) for avg in n_avg]\n",
    "n = len(p)\n",
    "# S = np.zeros([num_simulations, n, 2])\n",
    "S = []"
   ]
  },
  {
   "cell_type": "code",
   "execution_count": null,
   "metadata": {},
   "outputs": [],
   "source": []
  },
  {
   "cell_type": "code",
   "execution_count": null,
   "metadata": {},
   "outputs": [],
   "source": [
    "%%time\n",
    "\n",
    "S = []\n",
    "for i in tqdm(range(num_simulations)):\n",
    "    for j in range(n):\n",
    "        S.append(dask.delayed(run_simulation)(p[j]))\n",
    "\n",
    "re = dask.compute(S)"
   ]
  },
  {
   "cell_type": "code",
   "execution_count": null,
   "metadata": {},
   "outputs": [],
   "source": [
    "%%time\n",
    "\n",
    "S = []\n",
    "for i in tqdm(range(num_simulations)):\n",
    "    for j in range(n):\n",
    "        S.append(dask.delayed(run_simulation)(p[j]))\n",
    "\n",
    "re = dask.compute(S)"
   ]
  },
  {
   "cell_type": "code",
   "execution_count": 6,
   "metadata": {},
   "outputs": [
    {
     "name": "stdout",
     "output_type": "stream",
     "text": [
      "CPU times: user 387 ms, sys: 60.6 ms, total: 448 ms\n",
      "Wall time: 8.41 s\n"
     ]
    },
    {
     "data": {
      "text/plain": [
       "[[[48.84, 17.093333333333334],\n",
       "  [105.32, 49.48888888888889],\n",
       "  [59.96, 25.373333333333335],\n",
       "  [123.68, 75.55111111111111],\n",
       "  [170.36, 122.36444444444444],\n",
       "  [240.2, 166.22222222222223],\n",
       "  [199.0, 155.4488888888889],\n",
       "  [250.0, 217.93333333333334],\n",
       "  [250.0, 214.63111111111112],\n",
       "  [214.0, 174.63111111111112],\n",
       "  [250.0, 215.78222222222223],\n",
       "  [250.0, 210.26666666666668],\n",
       "  [250.0, 220.1822222222222],\n",
       "  [250.0, 223.45777777777778],\n",
       "  [250.0, 224.56444444444443],\n",
       "  [48.84, 17.093333333333334],\n",
       "  [105.32, 49.48888888888889],\n",
       "  [59.96, 25.373333333333335],\n",
       "  [123.68, 75.55111111111111],\n",
       "  [170.36, 122.36444444444444],\n",
       "  [240.2, 166.22222222222223],\n",
       "  [199.0, 155.4488888888889],\n",
       "  [250.0, 217.93333333333334],\n",
       "  [250.0, 214.63111111111112],\n",
       "  [214.0, 174.63111111111112],\n",
       "  [250.0, 215.78222222222223],\n",
       "  [250.0, 210.26666666666668],\n",
       "  [250.0, 220.1822222222222],\n",
       "  [250.0, 223.45777777777778],\n",
       "  [250.0, 224.56444444444443],\n",
       "  [48.84, 17.093333333333334],\n",
       "  [105.32, 49.48888888888889],\n",
       "  [59.96, 25.373333333333335],\n",
       "  [123.68, 75.55111111111111],\n",
       "  [170.36, 122.36444444444444],\n",
       "  [240.2, 166.22222222222223],\n",
       "  [199.0, 155.4488888888889],\n",
       "  [250.0, 217.93333333333334],\n",
       "  [250.0, 214.63111111111112],\n",
       "  [214.0, 174.63111111111112],\n",
       "  [250.0, 215.78222222222223],\n",
       "  [250.0, 210.26666666666668],\n",
       "  [250.0, 220.1822222222222],\n",
       "  [250.0, 223.45777777777778],\n",
       "  [250.0, 224.56444444444443],\n",
       "  [48.84, 17.093333333333334],\n",
       "  [105.32, 49.48888888888889],\n",
       "  [59.96, 25.373333333333335],\n",
       "  [123.68, 75.55111111111111],\n",
       "  [170.36, 122.36444444444444],\n",
       "  [240.2, 166.22222222222223],\n",
       "  [199.0, 155.4488888888889],\n",
       "  [250.0, 217.93333333333334],\n",
       "  [250.0, 214.63111111111112],\n",
       "  [214.0, 174.63111111111112],\n",
       "  [250.0, 215.78222222222223],\n",
       "  [250.0, 210.26666666666668],\n",
       "  [250.0, 220.1822222222222],\n",
       "  [250.0, 223.45777777777778],\n",
       "  [250.0, 224.56444444444443],\n",
       "  [48.84, 17.093333333333334],\n",
       "  [105.32, 49.48888888888889],\n",
       "  [59.96, 25.373333333333335],\n",
       "  [123.68, 75.55111111111111],\n",
       "  [170.36, 122.36444444444444],\n",
       "  [240.2, 166.22222222222223],\n",
       "  [199.0, 155.4488888888889],\n",
       "  [250.0, 217.93333333333334],\n",
       "  [250.0, 214.63111111111112],\n",
       "  [214.0, 174.63111111111112],\n",
       "  [250.0, 215.78222222222223],\n",
       "  [250.0, 210.26666666666668],\n",
       "  [250.0, 220.1822222222222],\n",
       "  [250.0, 223.45777777777778],\n",
       "  [250.0, 224.56444444444443]]]"
      ]
     },
     "execution_count": 6,
     "metadata": {},
     "output_type": "execute_result"
    }
   ],
   "source": [
    "%%time\n",
    "\n",
    "S = []\n",
    "S.append(client.map(run_simulation,p*num_simulations))\n",
    "results = client.gather(S)\n",
    "\n",
    "results"
   ]
  },
  {
   "cell_type": "code",
   "execution_count": null,
   "metadata": {},
   "outputs": [],
   "source": []
  },
  {
   "cell_type": "code",
   "execution_count": null,
   "metadata": {},
   "outputs": [],
   "source": [
    "S\n"
   ]
  },
  {
   "cell_type": "code",
   "execution_count": null,
   "metadata": {},
   "outputs": [],
   "source": [
    "import dask.bag as db"
   ]
  },
  {
   "cell_type": "code",
   "execution_count": null,
   "metadata": {},
   "outputs": [],
   "source": [
    "b = db.from_sequence(p*num_simulations, npartitions=num_simulations)\n"
   ]
  },
  {
   "cell_type": "code",
   "execution_count": null,
   "metadata": {},
   "outputs": [],
   "source": [
    "%%time\n",
    "l = b.map(run_simulation).compute()"
   ]
  },
  {
   "cell_type": "code",
   "execution_count": null,
   "metadata": {},
   "outputs": [],
   "source": []
  },
  {
   "cell_type": "code",
   "execution_count": null,
   "metadata": {},
   "outputs": [],
   "source": []
  },
  {
   "cell_type": "code",
   "execution_count": null,
   "metadata": {},
   "outputs": [],
   "source": []
  },
  {
   "cell_type": "code",
   "execution_count": null,
   "metadata": {},
   "outputs": [],
   "source": []
  },
  {
   "cell_type": "code",
   "execution_count": null,
   "metadata": {},
   "outputs": [],
   "source": [
    "S_influential = S[:,:,0]\n",
    "S_normal = S[:,:,1]"
   ]
  },
  {
   "cell_type": "code",
   "execution_count": null,
   "metadata": {},
   "outputs": [],
   "source": [
    "##########################\n",
    "### Processing Results ###\n",
    "##########################\n",
    "names = [\"Influential\", \"Normal\"]\n",
    "\n",
    "# Number of Nodes of Network Influenced\n",
    "N_influential = np.apply_along_axis(np.mean, 0, S_influential)\n",
    "N_normal = np.apply_along_axis(np.mean, 0, S_normal)\n",
    "\n",
    "# Proportion of Network Influenced\n",
    "P_influential = [x/N for x in N_influential]\n",
    "P_normal = [x/N for x in N_normal]"
   ]
  },
  {
   "cell_type": "code",
   "execution_count": null,
   "metadata": {},
   "outputs": [],
   "source": [
    "############\n",
    "### Pots ###\n",
    "############\n",
    "\n",
    "plt.plot(n_avg, N_influential, \"-s\")\n",
    "plt.plot(n_avg, N_normal, \"-o\")\n",
    "plt.ylabel(\"Average Number Influenced\")\n",
    "plt.xlabel(\"Average Degree\")\n",
    "plt.title(\"Number of Nodes Influenced\")\n",
    "plt.legend(names)"
   ]
  },
  {
   "cell_type": "code",
   "execution_count": null,
   "metadata": {},
   "outputs": [],
   "source": [
    "plt.plot(n_avg, P_influential, \"-o\")\n",
    "plt.plot(n_avg, P_normal, \"-o\")\n",
    "plt.ylabel(\"Average Number Influenced\")\n",
    "plt.xlabel(\"Average Degree\")\n",
    "plt.title(\"Percentage of Network Influenced\")\n",
    "plt.legend(names)"
   ]
  },
  {
   "cell_type": "code",
   "execution_count": null,
   "metadata": {},
   "outputs": [],
   "source": []
  }
 ],
 "metadata": {
  "kernelspec": {
   "display_name": "Python 3",
   "language": "python",
   "name": "python3"
  },
  "language_info": {
   "codemirror_mode": {
    "name": "ipython",
    "version": 3
   },
   "file_extension": ".py",
   "mimetype": "text/x-python",
   "name": "python",
   "nbconvert_exporter": "python",
   "pygments_lexer": "ipython3",
   "version": "3.7.6"
  }
 },
 "nbformat": 4,
 "nbformat_minor": 4
}
